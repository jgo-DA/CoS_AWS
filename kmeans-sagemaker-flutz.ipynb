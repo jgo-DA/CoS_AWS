{
 "cells": [
  {
   "cell_type": "code",
   "execution_count": 1,
   "metadata": {},
   "outputs": [],
   "source": [
    "from sagemaker import get_execution_role\n",
    "role = get_execution_role()"
   ]
  },
  {
   "cell_type": "code",
   "execution_count": 2,
   "metadata": {},
   "outputs": [],
   "source": [
    "bucket_name = 'flutz-bucket'\n",
    "folder = 'spotify'\n",
    "output_path = f's3://{bucket_name}/{folder}/output'"
   ]
  },
  {
   "cell_type": "code",
   "execution_count": 3,
   "metadata": {},
   "outputs": [
    {
     "name": "stdout",
     "output_type": "stream",
     "text": [
      "Requirement already satisfied: mxnet in /home/ec2-user/anaconda3/envs/python3/lib/python3.6/site-packages (1.7.0.post1)\n",
      "Requirement already satisfied: graphviz<0.9.0,>=0.8.1 in /home/ec2-user/anaconda3/envs/python3/lib/python3.6/site-packages (from mxnet) (0.8.4)\n",
      "Requirement already satisfied: requests<3,>=2.20.0 in /home/ec2-user/anaconda3/envs/python3/lib/python3.6/site-packages (from mxnet) (2.22.0)\n",
      "Requirement already satisfied: numpy<2.0.0,>1.16.0 in /home/ec2-user/anaconda3/envs/python3/lib/python3.6/site-packages (from mxnet) (1.18.1)\n",
      "Requirement already satisfied: chardet<3.1.0,>=3.0.2 in /home/ec2-user/anaconda3/envs/python3/lib/python3.6/site-packages (from requests<3,>=2.20.0->mxnet) (3.0.4)\n",
      "Requirement already satisfied: urllib3!=1.25.0,!=1.25.1,<1.26,>=1.21.1 in /home/ec2-user/anaconda3/envs/python3/lib/python3.6/site-packages (from requests<3,>=2.20.0->mxnet) (1.25.10)\n",
      "Requirement already satisfied: certifi>=2017.4.17 in /home/ec2-user/anaconda3/envs/python3/lib/python3.6/site-packages (from requests<3,>=2.20.0->mxnet) (2020.6.20)\n",
      "Requirement already satisfied: idna<2.9,>=2.5 in /home/ec2-user/anaconda3/envs/python3/lib/python3.6/site-packages (from requests<3,>=2.20.0->mxnet) (2.8)\n",
      "\u001b[33mWARNING: You are using pip version 20.0.2; however, version 20.3 is available.\n",
      "You should consider upgrading via the '/home/ec2-user/anaconda3/envs/python3/bin/python -m pip install --upgrade pip' command.\u001b[0m\n"
     ]
    }
   ],
   "source": [
    "import numpy as np\n",
    "import pandas as pd\n",
    "import matplotlib.pyplot as plt\n",
    "\n",
    "import seaborn as sns\n",
    "import boto3\n",
    "import os\n",
    "!pip install mxnet\n",
    "import mxnet as mx"
   ]
  },
  {
   "cell_type": "markdown",
   "metadata": {},
   "source": [
    "# Load the data from an RDS database"
   ]
  },
  {
   "cell_type": "code",
   "execution_count": 4,
   "metadata": {},
   "outputs": [
    {
     "name": "stdout",
     "output_type": "stream",
     "text": [
      "Requirement already satisfied: pymysql in /home/ec2-user/anaconda3/envs/python3/lib/python3.6/site-packages (0.10.1)\n",
      "Requirement already satisfied: sqlalchemy in /home/ec2-user/anaconda3/envs/python3/lib/python3.6/site-packages (1.3.13)\n",
      "\u001b[33mWARNING: You are using pip version 20.0.2; however, version 20.3 is available.\n",
      "You should consider upgrading via the '/home/ec2-user/anaconda3/envs/python3/bin/python -m pip install --upgrade pip' command.\u001b[0m\n"
     ]
    }
   ],
   "source": [
    "!pip install pymysql sqlalchemy"
   ]
  },
  {
   "cell_type": "code",
   "execution_count": 5,
   "metadata": {},
   "outputs": [],
   "source": [
    "from sqlalchemy import create_engine"
   ]
  },
  {
   "cell_type": "code",
   "execution_count": 6,
   "metadata": {},
   "outputs": [],
   "source": [
    "for line in map(lambda line: line.split('=', 2), open('rds.txt').read().split('\\n')):\n",
    "    (len(line) > 1) and globals().update({line[0]: line[1]})\n",
    "\n",
    "data = pd.read_sql_table(table_name='joined', index_col='track_id', \n",
    "    con=create_engine(f'mysql+pymysql://{rds_user}:{rds_pwd}@{rds_host}/{rds_db}'))"
   ]
  },
  {
   "cell_type": "code",
   "execution_count": 7,
   "metadata": {},
   "outputs": [
    {
     "data": {
      "text/html": [
       "<div>\n",
       "<style scoped>\n",
       "    .dataframe tbody tr th:only-of-type {\n",
       "        vertical-align: middle;\n",
       "    }\n",
       "\n",
       "    .dataframe tbody tr th {\n",
       "        vertical-align: top;\n",
       "    }\n",
       "\n",
       "    .dataframe thead th {\n",
       "        text-align: right;\n",
       "    }\n",
       "</style>\n",
       "<table border=\"1\" class=\"dataframe\">\n",
       "  <thead>\n",
       "    <tr style=\"text-align: right;\">\n",
       "      <th></th>\n",
       "      <th>artist_name</th>\n",
       "      <th>track_name</th>\n",
       "      <th>popularity</th>\n",
       "      <th>danceability</th>\n",
       "      <th>energy</th>\n",
       "      <th>key</th>\n",
       "      <th>loudness</th>\n",
       "      <th>mode</th>\n",
       "      <th>speechiness</th>\n",
       "      <th>acousticness</th>\n",
       "      <th>instrumentalness</th>\n",
       "      <th>liveness</th>\n",
       "      <th>valence</th>\n",
       "      <th>tempo</th>\n",
       "      <th>duration_ms</th>\n",
       "      <th>time_signature</th>\n",
       "    </tr>\n",
       "    <tr>\n",
       "      <th>track_id</th>\n",
       "      <th></th>\n",
       "      <th></th>\n",
       "      <th></th>\n",
       "      <th></th>\n",
       "      <th></th>\n",
       "      <th></th>\n",
       "      <th></th>\n",
       "      <th></th>\n",
       "      <th></th>\n",
       "      <th></th>\n",
       "      <th></th>\n",
       "      <th></th>\n",
       "      <th></th>\n",
       "      <th></th>\n",
       "      <th></th>\n",
       "      <th></th>\n",
       "    </tr>\n",
       "  </thead>\n",
       "  <tbody>\n",
       "    <tr>\n",
       "      <th>2b8fOow8UzyDFAE27YhOZM</th>\n",
       "      <td>Maroon 5</td>\n",
       "      <td>Memories</td>\n",
       "      <td>100</td>\n",
       "      <td>0.764</td>\n",
       "      <td>0.3200</td>\n",
       "      <td>11</td>\n",
       "      <td>-7.209</td>\n",
       "      <td>1</td>\n",
       "      <td>0.0546</td>\n",
       "      <td>0.8370</td>\n",
       "      <td>0.000000</td>\n",
       "      <td>0.0822</td>\n",
       "      <td>0.5750</td>\n",
       "      <td>91.019</td>\n",
       "      <td>189486</td>\n",
       "      <td>4</td>\n",
       "    </tr>\n",
       "    <tr>\n",
       "      <th>21jGcNKet2qwijlDFuPiPb</th>\n",
       "      <td>Post Malone</td>\n",
       "      <td>Circles</td>\n",
       "      <td>99</td>\n",
       "      <td>0.695</td>\n",
       "      <td>0.7620</td>\n",
       "      <td>0</td>\n",
       "      <td>-3.497</td>\n",
       "      <td>1</td>\n",
       "      <td>0.0395</td>\n",
       "      <td>0.1920</td>\n",
       "      <td>0.002440</td>\n",
       "      <td>0.0863</td>\n",
       "      <td>0.5530</td>\n",
       "      <td>120.042</td>\n",
       "      <td>215280</td>\n",
       "      <td>4</td>\n",
       "    </tr>\n",
       "    <tr>\n",
       "      <th>3eekarcy7kvN4yt5ZFzltW</th>\n",
       "      <td>Travis Scott</td>\n",
       "      <td>HIGHEST IN THE ROOM</td>\n",
       "      <td>98</td>\n",
       "      <td>0.598</td>\n",
       "      <td>0.4270</td>\n",
       "      <td>7</td>\n",
       "      <td>-8.764</td>\n",
       "      <td>0</td>\n",
       "      <td>0.0317</td>\n",
       "      <td>0.0546</td>\n",
       "      <td>0.000006</td>\n",
       "      <td>0.2100</td>\n",
       "      <td>0.0605</td>\n",
       "      <td>76.469</td>\n",
       "      <td>175721</td>\n",
       "      <td>4</td>\n",
       "    </tr>\n",
       "    <tr>\n",
       "      <th>3ZCTVFBt2Brf31RLEnCkWJ</th>\n",
       "      <td>Billie Eilish</td>\n",
       "      <td>everything i wanted</td>\n",
       "      <td>98</td>\n",
       "      <td>0.704</td>\n",
       "      <td>0.2250</td>\n",
       "      <td>6</td>\n",
       "      <td>-14.454</td>\n",
       "      <td>0</td>\n",
       "      <td>0.0994</td>\n",
       "      <td>0.9020</td>\n",
       "      <td>0.657000</td>\n",
       "      <td>0.1060</td>\n",
       "      <td>0.2430</td>\n",
       "      <td>120.006</td>\n",
       "      <td>245426</td>\n",
       "      <td>4</td>\n",
       "    </tr>\n",
       "    <tr>\n",
       "      <th>2XU0oxnq2qxCpomAAuJY8K</th>\n",
       "      <td>Tones and I</td>\n",
       "      <td>Dance Monkey</td>\n",
       "      <td>98</td>\n",
       "      <td>0.824</td>\n",
       "      <td>0.5880</td>\n",
       "      <td>6</td>\n",
       "      <td>-6.400</td>\n",
       "      <td>0</td>\n",
       "      <td>0.0924</td>\n",
       "      <td>0.6920</td>\n",
       "      <td>0.000104</td>\n",
       "      <td>0.1490</td>\n",
       "      <td>0.5130</td>\n",
       "      <td>98.027</td>\n",
       "      <td>209438</td>\n",
       "      <td>4</td>\n",
       "    </tr>\n",
       "    <tr>\n",
       "      <th>...</th>\n",
       "      <td>...</td>\n",
       "      <td>...</td>\n",
       "      <td>...</td>\n",
       "      <td>...</td>\n",
       "      <td>...</td>\n",
       "      <td>...</td>\n",
       "      <td>...</td>\n",
       "      <td>...</td>\n",
       "      <td>...</td>\n",
       "      <td>...</td>\n",
       "      <td>...</td>\n",
       "      <td>...</td>\n",
       "      <td>...</td>\n",
       "      <td>...</td>\n",
       "      <td>...</td>\n",
       "      <td>...</td>\n",
       "    </tr>\n",
       "    <tr>\n",
       "      <th>038gsZG1ObZUtFMkwIJnqH</th>\n",
       "      <td>Johann Sebastian Bach</td>\n",
       "      <td>Viola da gamba Sonata No. 1 in G Major, BWV 10...</td>\n",
       "      <td>0</td>\n",
       "      <td>0.311</td>\n",
       "      <td>0.0758</td>\n",
       "      <td>6</td>\n",
       "      <td>-24.592</td>\n",
       "      <td>1</td>\n",
       "      <td>0.0357</td>\n",
       "      <td>0.7680</td>\n",
       "      <td>0.004250</td>\n",
       "      <td>0.0699</td>\n",
       "      <td>0.1690</td>\n",
       "      <td>84.039</td>\n",
       "      <td>117400</td>\n",
       "      <td>4</td>\n",
       "    </tr>\n",
       "    <tr>\n",
       "      <th>02UfNUoxphQFSLYQnSzqhM</th>\n",
       "      <td>Johann Sebastian Bach</td>\n",
       "      <td>Partita No. 4 in D Major, BWV 828: V. Sarabande</td>\n",
       "      <td>0</td>\n",
       "      <td>0.267</td>\n",
       "      <td>0.2860</td>\n",
       "      <td>1</td>\n",
       "      <td>-17.582</td>\n",
       "      <td>1</td>\n",
       "      <td>0.0500</td>\n",
       "      <td>0.8880</td>\n",
       "      <td>0.692000</td>\n",
       "      <td>0.0620</td>\n",
       "      <td>0.6040</td>\n",
       "      <td>84.736</td>\n",
       "      <td>356987</td>\n",
       "      <td>4</td>\n",
       "    </tr>\n",
       "    <tr>\n",
       "      <th>024szQC1tsQq6UFemGBzo0</th>\n",
       "      <td>Chuck Berry</td>\n",
       "      <td>Christmas</td>\n",
       "      <td>0</td>\n",
       "      <td>0.603</td>\n",
       "      <td>0.4890</td>\n",
       "      <td>9</td>\n",
       "      <td>-9.564</td>\n",
       "      <td>1</td>\n",
       "      <td>0.0381</td>\n",
       "      <td>0.9240</td>\n",
       "      <td>0.033100</td>\n",
       "      <td>0.1490</td>\n",
       "      <td>0.7880</td>\n",
       "      <td>89.147</td>\n",
       "      <td>203274</td>\n",
       "      <td>4</td>\n",
       "    </tr>\n",
       "    <tr>\n",
       "      <th>01yuKuki0x7gdPjnG9iHuJ</th>\n",
       "      <td>Simone Sommerland</td>\n",
       "      <td>Stups, der kleine Osterhase</td>\n",
       "      <td>0</td>\n",
       "      <td>0.905</td>\n",
       "      <td>0.6380</td>\n",
       "      <td>0</td>\n",
       "      <td>-6.499</td>\n",
       "      <td>1</td>\n",
       "      <td>0.0516</td>\n",
       "      <td>0.2670</td>\n",
       "      <td>0.000000</td>\n",
       "      <td>0.3740</td>\n",
       "      <td>0.9640</td>\n",
       "      <td>113.038</td>\n",
       "      <td>130554</td>\n",
       "      <td>4</td>\n",
       "    </tr>\n",
       "    <tr>\n",
       "      <th>01Vn8e4TylKx7xWRdgN8QD</th>\n",
       "      <td>Wolfgang Amadeus Mozart</td>\n",
       "      <td>Flute Quartet No. 4 in A Major, K. 298: III. R...</td>\n",
       "      <td>0</td>\n",
       "      <td>0.375</td>\n",
       "      <td>0.1480</td>\n",
       "      <td>9</td>\n",
       "      <td>-18.278</td>\n",
       "      <td>1</td>\n",
       "      <td>0.0382</td>\n",
       "      <td>0.9740</td>\n",
       "      <td>0.829000</td>\n",
       "      <td>0.1120</td>\n",
       "      <td>0.5020</td>\n",
       "      <td>129.178</td>\n",
       "      <td>190000</td>\n",
       "      <td>4</td>\n",
       "    </tr>\n",
       "  </tbody>\n",
       "</table>\n",
       "<p>15626 rows × 16 columns</p>\n",
       "</div>"
      ],
      "text/plain": [
       "                                    artist_name  \\\n",
       "track_id                                          \n",
       "2b8fOow8UzyDFAE27YhOZM                 Maroon 5   \n",
       "21jGcNKet2qwijlDFuPiPb              Post Malone   \n",
       "3eekarcy7kvN4yt5ZFzltW             Travis Scott   \n",
       "3ZCTVFBt2Brf31RLEnCkWJ            Billie Eilish   \n",
       "2XU0oxnq2qxCpomAAuJY8K              Tones and I   \n",
       "...                                         ...   \n",
       "038gsZG1ObZUtFMkwIJnqH    Johann Sebastian Bach   \n",
       "02UfNUoxphQFSLYQnSzqhM    Johann Sebastian Bach   \n",
       "024szQC1tsQq6UFemGBzo0              Chuck Berry   \n",
       "01yuKuki0x7gdPjnG9iHuJ        Simone Sommerland   \n",
       "01Vn8e4TylKx7xWRdgN8QD  Wolfgang Amadeus Mozart   \n",
       "\n",
       "                                                               track_name  \\\n",
       "track_id                                                                    \n",
       "2b8fOow8UzyDFAE27YhOZM                                           Memories   \n",
       "21jGcNKet2qwijlDFuPiPb                                            Circles   \n",
       "3eekarcy7kvN4yt5ZFzltW                                HIGHEST IN THE ROOM   \n",
       "3ZCTVFBt2Brf31RLEnCkWJ                                everything i wanted   \n",
       "2XU0oxnq2qxCpomAAuJY8K                                       Dance Monkey   \n",
       "...                                                                   ...   \n",
       "038gsZG1ObZUtFMkwIJnqH  Viola da gamba Sonata No. 1 in G Major, BWV 10...   \n",
       "02UfNUoxphQFSLYQnSzqhM    Partita No. 4 in D Major, BWV 828: V. Sarabande   \n",
       "024szQC1tsQq6UFemGBzo0                                          Christmas   \n",
       "01yuKuki0x7gdPjnG9iHuJ                        Stups, der kleine Osterhase   \n",
       "01Vn8e4TylKx7xWRdgN8QD  Flute Quartet No. 4 in A Major, K. 298: III. R...   \n",
       "\n",
       "                        popularity  danceability  energy  key  loudness  mode  \\\n",
       "track_id                                                                        \n",
       "2b8fOow8UzyDFAE27YhOZM         100         0.764  0.3200   11    -7.209     1   \n",
       "21jGcNKet2qwijlDFuPiPb          99         0.695  0.7620    0    -3.497     1   \n",
       "3eekarcy7kvN4yt5ZFzltW          98         0.598  0.4270    7    -8.764     0   \n",
       "3ZCTVFBt2Brf31RLEnCkWJ          98         0.704  0.2250    6   -14.454     0   \n",
       "2XU0oxnq2qxCpomAAuJY8K          98         0.824  0.5880    6    -6.400     0   \n",
       "...                            ...           ...     ...  ...       ...   ...   \n",
       "038gsZG1ObZUtFMkwIJnqH           0         0.311  0.0758    6   -24.592     1   \n",
       "02UfNUoxphQFSLYQnSzqhM           0         0.267  0.2860    1   -17.582     1   \n",
       "024szQC1tsQq6UFemGBzo0           0         0.603  0.4890    9    -9.564     1   \n",
       "01yuKuki0x7gdPjnG9iHuJ           0         0.905  0.6380    0    -6.499     1   \n",
       "01Vn8e4TylKx7xWRdgN8QD           0         0.375  0.1480    9   -18.278     1   \n",
       "\n",
       "                        speechiness  acousticness  instrumentalness  liveness  \\\n",
       "track_id                                                                        \n",
       "2b8fOow8UzyDFAE27YhOZM       0.0546        0.8370          0.000000    0.0822   \n",
       "21jGcNKet2qwijlDFuPiPb       0.0395        0.1920          0.002440    0.0863   \n",
       "3eekarcy7kvN4yt5ZFzltW       0.0317        0.0546          0.000006    0.2100   \n",
       "3ZCTVFBt2Brf31RLEnCkWJ       0.0994        0.9020          0.657000    0.1060   \n",
       "2XU0oxnq2qxCpomAAuJY8K       0.0924        0.6920          0.000104    0.1490   \n",
       "...                             ...           ...               ...       ...   \n",
       "038gsZG1ObZUtFMkwIJnqH       0.0357        0.7680          0.004250    0.0699   \n",
       "02UfNUoxphQFSLYQnSzqhM       0.0500        0.8880          0.692000    0.0620   \n",
       "024szQC1tsQq6UFemGBzo0       0.0381        0.9240          0.033100    0.1490   \n",
       "01yuKuki0x7gdPjnG9iHuJ       0.0516        0.2670          0.000000    0.3740   \n",
       "01Vn8e4TylKx7xWRdgN8QD       0.0382        0.9740          0.829000    0.1120   \n",
       "\n",
       "                        valence    tempo  duration_ms  time_signature  \n",
       "track_id                                                               \n",
       "2b8fOow8UzyDFAE27YhOZM   0.5750   91.019       189486               4  \n",
       "21jGcNKet2qwijlDFuPiPb   0.5530  120.042       215280               4  \n",
       "3eekarcy7kvN4yt5ZFzltW   0.0605   76.469       175721               4  \n",
       "3ZCTVFBt2Brf31RLEnCkWJ   0.2430  120.006       245426               4  \n",
       "2XU0oxnq2qxCpomAAuJY8K   0.5130   98.027       209438               4  \n",
       "...                         ...      ...          ...             ...  \n",
       "038gsZG1ObZUtFMkwIJnqH   0.1690   84.039       117400               4  \n",
       "02UfNUoxphQFSLYQnSzqhM   0.6040   84.736       356987               4  \n",
       "024szQC1tsQq6UFemGBzo0   0.7880   89.147       203274               4  \n",
       "01yuKuki0x7gdPjnG9iHuJ   0.9640  113.038       130554               4  \n",
       "01Vn8e4TylKx7xWRdgN8QD   0.5020  129.178       190000               4  \n",
       "\n",
       "[15626 rows x 16 columns]"
      ]
     },
     "metadata": {},
     "output_type": "display_data"
    }
   ],
   "source": [
    "display(data)"
   ]
  },
  {
   "cell_type": "code",
   "execution_count": 8,
   "metadata": {},
   "outputs": [
    {
     "data": {
      "text/plain": [
       "Ludwig van Beethoven          1206\n",
       "Johann Sebastian Bach          679\n",
       "Wolfgang Amadeus Mozart        275\n",
       "Frédéric Chopin                 83\n",
       "Prince                          68\n",
       "Armin van Buuren                64\n",
       "Pyotr Ilyich Tchaikovsky        50\n",
       "Steven Universe                 48\n",
       "Beyoncé                         44\n",
       "Trippie Redd                    43\n",
       "Os Barões Da Pisadinha          41\n",
       "Wesley Safadão                  41\n",
       "Drake                           36\n",
       "YoungBoy Never Broke Again      36\n",
       "Dilsinho                        34\n",
       "Unha Pintada                    34\n",
       "Ferrugem                        34\n",
       "Tiago Iorc                      33\n",
       "Ludmilla                        31\n",
       "BTS                             31\n",
       "XXXTENTACION                    31\n",
       "Simone Sommerland               30\n",
       "MC Kevin o Chris                29\n",
       "Rich The Kid                    29\n",
       "Name: artist_name, dtype: int64"
      ]
     },
     "execution_count": 8,
     "metadata": {},
     "output_type": "execute_result"
    }
   ],
   "source": [
    "data['artist_name'].value_counts()[:24]"
   ]
  },
  {
   "cell_type": "code",
   "execution_count": 9,
   "metadata": {},
   "outputs": [],
   "source": [
    "test_song = data[data['track_name'] == '1999 (Edit)']"
   ]
  },
  {
   "cell_type": "code",
   "execution_count": 10,
   "metadata": {},
   "outputs": [],
   "source": [
    "# ix = data[data['track_name'] == '1999 (Edit)'].index\n",
    "# data.drop(ix , inplace=True)"
   ]
  },
  {
   "cell_type": "code",
   "execution_count": 11,
   "metadata": {},
   "outputs": [],
   "source": [
    "df = data.copy()"
   ]
  },
  {
   "cell_type": "code",
   "execution_count": 12,
   "metadata": {},
   "outputs": [],
   "source": [
    "# Dropping non-feature columns\n",
    "df.drop(['artist_name', 'track_name'], axis=1, inplace=True)"
   ]
  },
  {
   "cell_type": "markdown",
   "metadata": {},
   "source": [
    "# Scaling data"
   ]
  },
  {
   "cell_type": "code",
   "execution_count": 13,
   "metadata": {},
   "outputs": [],
   "source": [
    "from sklearn.preprocessing import MinMaxScaler"
   ]
  },
  {
   "cell_type": "code",
   "execution_count": 14,
   "metadata": {},
   "outputs": [],
   "source": [
    "scaler=MinMaxScaler()\n",
    "df_scaled=pd.DataFrame(scaler.fit_transform(df), index=df.index, columns=df.columns)"
   ]
  },
  {
   "cell_type": "markdown",
   "metadata": {},
   "source": [
    "# PCA"
   ]
  },
  {
   "cell_type": "markdown",
   "metadata": {},
   "source": [
    "### PCA: Model training"
   ]
  },
  {
   "cell_type": "code",
   "execution_count": 15,
   "metadata": {},
   "outputs": [],
   "source": [
    "from sagemaker import PCA"
   ]
  },
  {
   "cell_type": "code",
   "execution_count": 16,
   "metadata": {},
   "outputs": [
    {
     "name": "stderr",
     "output_type": "stream",
     "text": [
      "train_instance_count has been renamed in sagemaker>=2.\n",
      "See: https://sagemaker.readthedocs.io/en/stable/v2.html for details.\n",
      "train_instance_type has been renamed in sagemaker>=2.\n",
      "See: https://sagemaker.readthedocs.io/en/stable/v2.html for details.\n"
     ]
    }
   ],
   "source": [
    "pca_SM = PCA(role=role,\n",
    "             train_instance_count=1,\n",
    "             train_instance_type='ml.c4.xlarge',\n",
    "             output_path=output_path,\n",
    "             num_components=12)"
   ]
  },
  {
   "cell_type": "code",
   "execution_count": 17,
   "metadata": {},
   "outputs": [],
   "source": [
    "train_data = df_scaled.values.astype('float32')"
   ]
  },
  {
   "cell_type": "code",
   "execution_count": 18,
   "metadata": {},
   "outputs": [
    {
     "name": "stderr",
     "output_type": "stream",
     "text": [
      "Defaulting to the only supported framework/algorithm version: 1. Ignoring framework/algorithm version: 1.\n",
      "Defaulting to the only supported framework/algorithm version: 1. Ignoring framework/algorithm version: 1.\n"
     ]
    },
    {
     "name": "stdout",
     "output_type": "stream",
     "text": [
      "2020-12-03 21:08:16 Starting - Starting the training job...\n",
      "2020-12-03 21:08:18 Starting - Launching requested ML instances......\n",
      "2020-12-03 21:09:21 Starting - Preparing the instances for training......\n",
      "2020-12-03 21:10:44 Downloading - Downloading input data\n",
      "2020-12-03 21:10:44 Training - Downloading the training image..\u001b[34mDocker entrypoint called with argument(s): train\u001b[0m\n",
      "\u001b[34mRunning default environment configuration script\u001b[0m\n",
      "\u001b[34m[12/03/2020 21:11:01 INFO 139917792102208] Reading default configuration from /opt/amazon/lib/python2.7/site-packages/algorithm/resources/default-conf.json: {u'_num_gpus': u'auto', u'_log_level': u'info', u'subtract_mean': u'true', u'force_dense': u'true', u'epochs': 1, u'algorithm_mode': u'regular', u'extra_components': u'-1', u'_kvstore': u'dist_sync', u'_num_kv_servers': u'auto'}\u001b[0m\n",
      "\u001b[34m[12/03/2020 21:11:01 INFO 139917792102208] Merging with provided configuration from /opt/ml/input/config/hyperparameters.json: {u'feature_dim': u'14', u'mini_batch_size': u'500', u'num_components': u'12'}\u001b[0m\n",
      "\u001b[34m[12/03/2020 21:11:01 INFO 139917792102208] Final configuration: {u'num_components': u'12', u'_num_gpus': u'auto', u'_log_level': u'info', u'subtract_mean': u'true', u'force_dense': u'true', u'epochs': 1, u'algorithm_mode': u'regular', u'feature_dim': u'14', u'extra_components': u'-1', u'_kvstore': u'dist_sync', u'_num_kv_servers': u'auto', u'mini_batch_size': u'500'}\u001b[0m\n",
      "\u001b[34m[12/03/2020 21:11:01 WARNING 139917792102208] Loggers have already been setup.\u001b[0m\n",
      "\u001b[34m[12/03/2020 21:11:03 INFO 139917792102208] Launching parameter server for role scheduler\u001b[0m\n",
      "\u001b[34m[12/03/2020 21:11:03 INFO 139917792102208] {'ECS_CONTAINER_METADATA_URI': 'http://169.254.170.2/v3/01afe590-7daa-4ea7-8886-1888888bdd93', 'ECS_CONTAINER_METADATA_URI_V4': 'http://169.254.170.2/v4/01afe590-7daa-4ea7-8886-1888888bdd93', 'PROTOCOL_BUFFERS_PYTHON_IMPLEMENTATION_VERSION': '2', 'PATH': '/opt/amazon/bin:/usr/local/nvidia/bin:/usr/local/sbin:/usr/local/bin:/usr/sbin:/usr/bin:/sbin:/bin:/opt/amazon/bin:/opt/amazon/bin', 'SAGEMAKER_HTTP_PORT': '8080', 'HOME': '/root', 'PYTHONUNBUFFERED': 'TRUE', 'CANONICAL_ENVROOT': '/opt/amazon', 'LD_LIBRARY_PATH': '/opt/amazon/lib/python2.7/site-packages/cv2/../../../../lib:/usr/local/nvidia/lib64:/opt/amazon/lib', 'LANG': 'en_US.utf8', 'DMLC_INTERFACE': 'eth0', 'SHLVL': '1', 'AWS_REGION': 'eu-central-1', 'NVIDIA_VISIBLE_DEVICES': 'void', 'TRAINING_JOB_NAME': 'pca-2020-12-03-21-08-16-753', 'PROTOCOL_BUFFERS_PYTHON_IMPLEMENTATION': 'cpp', 'ENVROOT': '/opt/amazon', 'SAGEMAKER_DATA_PATH': '/opt/ml', 'NVIDIA_DRIVER_CAPABILITIES': 'compute,utility', 'NVIDIA_REQUIRE_CUDA': 'cuda>=9.0', 'OMP_NUM_THREADS': '2', 'HOSTNAME': 'ip-10-0-122-129.eu-central-1.compute.internal', 'AWS_CONTAINER_CREDENTIALS_RELATIVE_URI': '/v2/credentials/99c59d19-a1fd-4d28-a793-fe188f238897', 'PWD': '/', 'TRAINING_JOB_ARN': 'arn:aws:sagemaker:eu-central-1:898627427171:training-job/pca-2020-12-03-21-08-16-753', 'AWS_EXECUTION_ENV': 'AWS_ECS_EC2'}\u001b[0m\n",
      "\u001b[34m[12/03/2020 21:11:03 INFO 139917792102208] envs={'ECS_CONTAINER_METADATA_URI': 'http://169.254.170.2/v3/01afe590-7daa-4ea7-8886-1888888bdd93', 'ECS_CONTAINER_METADATA_URI_V4': 'http://169.254.170.2/v4/01afe590-7daa-4ea7-8886-1888888bdd93', 'PROTOCOL_BUFFERS_PYTHON_IMPLEMENTATION_VERSION': '2', 'DMLC_NUM_WORKER': '1', 'DMLC_PS_ROOT_PORT': '9000', 'PATH': '/opt/amazon/bin:/usr/local/nvidia/bin:/usr/local/sbin:/usr/local/bin:/usr/sbin:/usr/bin:/sbin:/bin:/opt/amazon/bin:/opt/amazon/bin', 'SAGEMAKER_HTTP_PORT': '8080', 'HOME': '/root', 'PYTHONUNBUFFERED': 'TRUE', 'CANONICAL_ENVROOT': '/opt/amazon', 'LD_LIBRARY_PATH': '/opt/amazon/lib/python2.7/site-packages/cv2/../../../../lib:/usr/local/nvidia/lib64:/opt/amazon/lib', 'LANG': 'en_US.utf8', 'DMLC_INTERFACE': 'eth0', 'SHLVL': '1', 'DMLC_PS_ROOT_URI': '10.0.122.129', 'AWS_REGION': 'eu-central-1', 'NVIDIA_VISIBLE_DEVICES': 'void', 'TRAINING_JOB_NAME': 'pca-2020-12-03-21-08-16-753', 'PROTOCOL_BUFFERS_PYTHON_IMPLEMENTATION': 'cpp', 'ENVROOT': '/opt/amazon', 'SAGEMAKER_DATA_PATH': '/opt/ml', 'NVIDIA_DRIVER_CAPABILITIES': 'compute,utility', 'NVIDIA_REQUIRE_CUDA': 'cuda>=9.0', 'OMP_NUM_THREADS': '2', 'HOSTNAME': 'ip-10-0-122-129.eu-central-1.compute.internal', 'AWS_CONTAINER_CREDENTIALS_RELATIVE_URI': '/v2/credentials/99c59d19-a1fd-4d28-a793-fe188f238897', 'DMLC_ROLE': 'scheduler', 'PWD': '/', 'DMLC_NUM_SERVER': '1', 'TRAINING_JOB_ARN': 'arn:aws:sagemaker:eu-central-1:898627427171:training-job/pca-2020-12-03-21-08-16-753', 'AWS_EXECUTION_ENV': 'AWS_ECS_EC2'}\u001b[0m\n",
      "\u001b[34m[12/03/2020 21:11:03 INFO 139917792102208] Launching parameter server for role server\u001b[0m\n",
      "\u001b[34m[12/03/2020 21:11:03 INFO 139917792102208] {'ECS_CONTAINER_METADATA_URI': 'http://169.254.170.2/v3/01afe590-7daa-4ea7-8886-1888888bdd93', 'ECS_CONTAINER_METADATA_URI_V4': 'http://169.254.170.2/v4/01afe590-7daa-4ea7-8886-1888888bdd93', 'PROTOCOL_BUFFERS_PYTHON_IMPLEMENTATION_VERSION': '2', 'PATH': '/opt/amazon/bin:/usr/local/nvidia/bin:/usr/local/sbin:/usr/local/bin:/usr/sbin:/usr/bin:/sbin:/bin:/opt/amazon/bin:/opt/amazon/bin', 'SAGEMAKER_HTTP_PORT': '8080', 'HOME': '/root', 'PYTHONUNBUFFERED': 'TRUE', 'CANONICAL_ENVROOT': '/opt/amazon', 'LD_LIBRARY_PATH': '/opt/amazon/lib/python2.7/site-packages/cv2/../../../../lib:/usr/local/nvidia/lib64:/opt/amazon/lib', 'LANG': 'en_US.utf8', 'DMLC_INTERFACE': 'eth0', 'SHLVL': '1', 'AWS_REGION': 'eu-central-1', 'NVIDIA_VISIBLE_DEVICES': 'void', 'TRAINING_JOB_NAME': 'pca-2020-12-03-21-08-16-753', 'PROTOCOL_BUFFERS_PYTHON_IMPLEMENTATION': 'cpp', 'ENVROOT': '/opt/amazon', 'SAGEMAKER_DATA_PATH': '/opt/ml', 'NVIDIA_DRIVER_CAPABILITIES': 'compute,utility', 'NVIDIA_REQUIRE_CUDA': 'cuda>=9.0', 'OMP_NUM_THREADS': '2', 'HOSTNAME': 'ip-10-0-122-129.eu-central-1.compute.internal', 'AWS_CONTAINER_CREDENTIALS_RELATIVE_URI': '/v2/credentials/99c59d19-a1fd-4d28-a793-fe188f238897', 'PWD': '/', 'TRAINING_JOB_ARN': 'arn:aws:sagemaker:eu-central-1:898627427171:training-job/pca-2020-12-03-21-08-16-753', 'AWS_EXECUTION_ENV': 'AWS_ECS_EC2'}\u001b[0m\n",
      "\u001b[34m[12/03/2020 21:11:03 INFO 139917792102208] envs={'ECS_CONTAINER_METADATA_URI': 'http://169.254.170.2/v3/01afe590-7daa-4ea7-8886-1888888bdd93', 'ECS_CONTAINER_METADATA_URI_V4': 'http://169.254.170.2/v4/01afe590-7daa-4ea7-8886-1888888bdd93', 'PROTOCOL_BUFFERS_PYTHON_IMPLEMENTATION_VERSION': '2', 'DMLC_NUM_WORKER': '1', 'DMLC_PS_ROOT_PORT': '9000', 'PATH': '/opt/amazon/bin:/usr/local/nvidia/bin:/usr/local/sbin:/usr/local/bin:/usr/sbin:/usr/bin:/sbin:/bin:/opt/amazon/bin:/opt/amazon/bin', 'SAGEMAKER_HTTP_PORT': '8080', 'HOME': '/root', 'PYTHONUNBUFFERED': 'TRUE', 'CANONICAL_ENVROOT': '/opt/amazon', 'LD_LIBRARY_PATH': '/opt/amazon/lib/python2.7/site-packages/cv2/../../../../lib:/usr/local/nvidia/lib64:/opt/amazon/lib', 'LANG': 'en_US.utf8', 'DMLC_INTERFACE': 'eth0', 'SHLVL': '1', 'DMLC_PS_ROOT_URI': '10.0.122.129', 'AWS_REGION': 'eu-central-1', 'NVIDIA_VISIBLE_DEVICES': 'void', 'TRAINING_JOB_NAME': 'pca-2020-12-03-21-08-16-753', 'PROTOCOL_BUFFERS_PYTHON_IMPLEMENTATION': 'cpp', 'ENVROOT': '/opt/amazon', 'SAGEMAKER_DATA_PATH': '/opt/ml', 'NVIDIA_DRIVER_CAPABILITIES': 'compute,utility', 'NVIDIA_REQUIRE_CUDA': 'cuda>=9.0', 'OMP_NUM_THREADS': '2', 'HOSTNAME': 'ip-10-0-122-129.eu-central-1.compute.internal', 'AWS_CONTAINER_CREDENTIALS_RELATIVE_URI': '/v2/credentials/99c59d19-a1fd-4d28-a793-fe188f238897', 'DMLC_ROLE': 'server', 'PWD': '/', 'DMLC_NUM_SERVER': '1', 'TRAINING_JOB_ARN': 'arn:aws:sagemaker:eu-central-1:898627427171:training-job/pca-2020-12-03-21-08-16-753', 'AWS_EXECUTION_ENV': 'AWS_ECS_EC2'}\u001b[0m\n",
      "\u001b[34m[12/03/2020 21:11:03 INFO 139917792102208] Environment: {'ECS_CONTAINER_METADATA_URI': 'http://169.254.170.2/v3/01afe590-7daa-4ea7-8886-1888888bdd93', 'ECS_CONTAINER_METADATA_URI_V4': 'http://169.254.170.2/v4/01afe590-7daa-4ea7-8886-1888888bdd93', 'PROTOCOL_BUFFERS_PYTHON_IMPLEMENTATION_VERSION': '2', 'DMLC_PS_ROOT_PORT': '9000', 'DMLC_NUM_WORKER': '1', 'SAGEMAKER_HTTP_PORT': '8080', 'PATH': '/opt/amazon/bin:/usr/local/nvidia/bin:/usr/local/sbin:/usr/local/bin:/usr/sbin:/usr/bin:/sbin:/bin:/opt/amazon/bin:/opt/amazon/bin', 'PYTHONUNBUFFERED': 'TRUE', 'CANONICAL_ENVROOT': '/opt/amazon', 'LD_LIBRARY_PATH': '/opt/amazon/lib/python2.7/site-packages/cv2/../../../../lib:/usr/local/nvidia/lib64:/opt/amazon/lib', 'LANG': 'en_US.utf8', 'DMLC_INTERFACE': 'eth0', 'SHLVL': '1', 'DMLC_PS_ROOT_URI': '10.0.122.129', 'AWS_REGION': 'eu-central-1', 'NVIDIA_VISIBLE_DEVICES': 'void', 'TRAINING_JOB_NAME': 'pca-2020-12-03-21-08-16-753', 'HOME': '/root', 'PROTOCOL_BUFFERS_PYTHON_IMPLEMENTATION': 'cpp', 'ENVROOT': '/opt/amazon', 'SAGEMAKER_DATA_PATH': '/opt/ml', 'NVIDIA_DRIVER_CAPABILITIES': 'compute,utility', 'NVIDIA_REQUIRE_CUDA': 'cuda>=9.0', 'OMP_NUM_THREADS': '2', 'HOSTNAME': 'ip-10-0-122-129.eu-central-1.compute.internal', 'AWS_CONTAINER_CREDENTIALS_RELATIVE_URI': '/v2/credentials/99c59d19-a1fd-4d28-a793-fe188f238897', 'DMLC_ROLE': 'worker', 'PWD': '/', 'DMLC_NUM_SERVER': '1', 'TRAINING_JOB_ARN': 'arn:aws:sagemaker:eu-central-1:898627427171:training-job/pca-2020-12-03-21-08-16-753', 'AWS_EXECUTION_ENV': 'AWS_ECS_EC2'}\u001b[0m\n",
      "\u001b[34mProcess 60 is a shell:scheduler.\u001b[0m\n",
      "\u001b[34mProcess 69 is a shell:server.\u001b[0m\n",
      "\u001b[34mProcess 1 is a worker.\u001b[0m\n",
      "\u001b[34m[12/03/2020 21:11:03 INFO 139917792102208] Using default worker.\u001b[0m\n",
      "\u001b[34m[12/03/2020 21:11:03 INFO 139917792102208] Loaded iterator creator application/x-recordio-protobuf for content type ('application/x-recordio-protobuf', '1.0')\u001b[0m\n",
      "\u001b[34m[12/03/2020 21:11:03 INFO 139917792102208] Loaded iterator creator application/x-labeled-vector-protobuf for content type ('application/x-labeled-vector-protobuf', '1.0')\u001b[0m\n",
      "\u001b[34m[12/03/2020 21:11:03 INFO 139917792102208] Loaded iterator creator protobuf for content type ('protobuf', '1.0')\u001b[0m\n",
      "\u001b[34m[12/03/2020 21:11:03 INFO 139917792102208] Checkpoint loading and saving are disabled.\u001b[0m\n",
      "\u001b[34m[12/03/2020 21:11:03 INFO 139917792102208] Create Store: dist_sync\u001b[0m\n",
      "\u001b[34m[12/03/2020 21:11:04 INFO 139917792102208] nvidia-smi took: 0.0251898765564 secs to identify 0 gpus\u001b[0m\n",
      "\u001b[34m[12/03/2020 21:11:04 INFO 139917792102208] Number of GPUs being used: 0\u001b[0m\n",
      "\u001b[34m[12/03/2020 21:11:04 INFO 139917792102208] The default executor is <PCAExecutor on cpu(0)>.\u001b[0m\n",
      "\u001b[34m[12/03/2020 21:11:04 INFO 139917792102208] 14 feature(s) found in 'data'.\u001b[0m\n",
      "\u001b[34m[12/03/2020 21:11:04 INFO 139917792102208] <PCAExecutor on cpu(0)> is assigned to batch slice from 0 to 499.\u001b[0m\n",
      "\u001b[34m#metrics {\"Metrics\": {\"initialize.time\": {\"count\": 1, \"max\": 784.7239971160889, \"sum\": 784.7239971160889, \"min\": 784.7239971160889}}, \"EndTime\": 1607029864.10282, \"Dimensions\": {\"Host\": \"algo-1\", \"Operation\": \"training\", \"Algorithm\": \"PCA\"}, \"StartTime\": 1607029863.314422}\n",
      "\u001b[0m\n",
      "\u001b[34m#metrics {\"Metrics\": {\"Max Batches Seen Between Resets\": {\"count\": 1, \"max\": 0, \"sum\": 0.0, \"min\": 0}, \"Number of Batches Since Last Reset\": {\"count\": 1, \"max\": 0, \"sum\": 0.0, \"min\": 0}, \"Number of Records Since Last Reset\": {\"count\": 1, \"max\": 0, \"sum\": 0.0, \"min\": 0}, \"Total Batches Seen\": {\"count\": 1, \"max\": 0, \"sum\": 0.0, \"min\": 0}, \"Total Records Seen\": {\"count\": 1, \"max\": 0, \"sum\": 0.0, \"min\": 0}, \"Max Records Seen Between Resets\": {\"count\": 1, \"max\": 0, \"sum\": 0.0, \"min\": 0}, \"Reset Count\": {\"count\": 1, \"max\": 0, \"sum\": 0.0, \"min\": 0}}, \"EndTime\": 1607029864.103055, \"Dimensions\": {\"Host\": \"algo-1\", \"Meta\": \"init_train_data_iter\", \"Operation\": \"training\", \"Algorithm\": \"PCA\"}, \"StartTime\": 1607029864.102999}\n",
      "\u001b[0m\n",
      "\u001b[34m[2020-12-03 21:11:04.103] [tensorio] [info] epoch_stats={\"data_pipeline\": \"/opt/ml/input/data/train\", \"epoch\": 0, \"duration\": 788, \"num_examples\": 1, \"num_bytes\": 40000}\u001b[0m\n",
      "\u001b[34m[2020-12-03 21:11:04.156] [tensorio] [info] epoch_stats={\"data_pipeline\": \"/opt/ml/input/data/train\", \"epoch\": 1, \"duration\": 45, \"num_examples\": 32, \"num_bytes\": 1250080}\u001b[0m\n",
      "\u001b[34m#metrics {\"Metrics\": {\"epochs\": {\"count\": 1, \"max\": 1, \"sum\": 1.0, \"min\": 1}, \"update.time\": {\"count\": 1, \"max\": 53.27010154724121, \"sum\": 53.27010154724121, \"min\": 53.27010154724121}}, \"EndTime\": 1607029864.156799, \"Dimensions\": {\"Host\": \"algo-1\", \"Operation\": \"training\", \"Algorithm\": \"PCA\"}, \"StartTime\": 1607029864.102917}\n",
      "\u001b[0m\n",
      "\u001b[34m[12/03/2020 21:11:04 INFO 139917792102208] #progress_metric: host=algo-1, completed 100 % of epochs\u001b[0m\n",
      "\u001b[34m#metrics {\"Metrics\": {\"Max Batches Seen Between Resets\": {\"count\": 1, \"max\": 32, \"sum\": 32.0, \"min\": 32}, \"Number of Batches Since Last Reset\": {\"count\": 1, \"max\": 32, \"sum\": 32.0, \"min\": 32}, \"Number of Records Since Last Reset\": {\"count\": 1, \"max\": 15626, \"sum\": 15626.0, \"min\": 15626}, \"Total Batches Seen\": {\"count\": 1, \"max\": 32, \"sum\": 32.0, \"min\": 32}, \"Total Records Seen\": {\"count\": 1, \"max\": 15626, \"sum\": 15626.0, \"min\": 15626}, \"Max Records Seen Between Resets\": {\"count\": 1, \"max\": 15626, \"sum\": 15626.0, \"min\": 15626}, \"Reset Count\": {\"count\": 1, \"max\": 1, \"sum\": 1.0, \"min\": 1}}, \"EndTime\": 1607029864.157223, \"Dimensions\": {\"Host\": \"algo-1\", \"Meta\": \"training_data_iter\", \"Operation\": \"training\", \"Algorithm\": \"PCA\", \"epoch\": 0}, \"StartTime\": 1607029864.103488}\n",
      "\u001b[0m\n",
      "\u001b[34m[12/03/2020 21:11:04 INFO 139917792102208] #throughput_metric: host=algo-1, train throughput=290041.927636 records/second\u001b[0m\n",
      "\u001b[34m#metrics {\"Metrics\": {\"finalize.time\": {\"count\": 1, \"max\": 20.22695541381836, \"sum\": 20.22695541381836, \"min\": 20.22695541381836}}, \"EndTime\": 1607029864.177857, \"Dimensions\": {\"Host\": \"algo-1\", \"Operation\": \"training\", \"Algorithm\": \"PCA\"}, \"StartTime\": 1607029864.156899}\n",
      "\u001b[0m\n",
      "\u001b[34m[12/03/2020 21:11:04 INFO 139917792102208] Test data is not provided.\u001b[0m\n",
      "\u001b[34m#metrics {\"Metrics\": {\"totaltime\": {\"count\": 1, \"max\": 3084.167003631592, \"sum\": 3084.167003631592, \"min\": 3084.167003631592}, \"setuptime\": {\"count\": 1, \"max\": 2048.431873321533, \"sum\": 2048.431873321533, \"min\": 2048.431873321533}}, \"EndTime\": 1607029864.182966, \"Dimensions\": {\"Host\": \"algo-1\", \"Operation\": \"training\", \"Algorithm\": \"PCA\"}, \"StartTime\": 1607029864.177912}\n",
      "\u001b[0m\n",
      "\n",
      "2020-12-03 21:11:14 Uploading - Uploading generated training model\n",
      "2020-12-03 21:11:14 Completed - Training job completed\n",
      "Training seconds: 46\n",
      "Billable seconds: 46\n",
      "CPU times: user 779 ms, sys: 34.6 ms, total: 813 ms\n",
      "Wall time: 3min 12s\n"
     ]
    }
   ],
   "source": [
    "%%time\n",
    "pca_SM.fit(pca_SM.record_set(train_data))"
   ]
  },
  {
   "cell_type": "markdown",
   "metadata": {},
   "source": [
    "### PCA: Accessing model artifact"
   ]
  },
  {
   "cell_type": "code",
   "execution_count": 19,
   "metadata": {},
   "outputs": [
    {
     "data": {
      "text/plain": [
       "0"
      ]
     },
     "execution_count": 19,
     "metadata": {},
     "output_type": "execute_result"
    }
   ],
   "source": [
    "job_name = pca_SM.latest_training_job.name\n",
    "model_key = f\"{folder}/output/{job_name}/output/model.tar.gz\"\n",
    "\n",
    "boto3.resource('s3').Bucket(bucket_name).download_file(model_key, 'model.tar.gz')\n",
    "os.system('tar -zxvf model.tar.gz')"
   ]
  },
  {
   "cell_type": "code",
   "execution_count": 20,
   "metadata": {},
   "outputs": [],
   "source": [
    "pca_model_params = mx.ndarray.load('model_algo-1')"
   ]
  },
  {
   "cell_type": "markdown",
   "metadata": {},
   "source": [
    "### PCA: Explained-variance-ratio"
   ]
  },
  {
   "cell_type": "code",
   "execution_count": 21,
   "metadata": {},
   "outputs": [],
   "source": [
    "s=pd.DataFrame(pca_model_params['s'].asnumpy())\n",
    "v=pd.DataFrame(pca_model_params['v'].asnumpy())"
   ]
  },
  {
   "cell_type": "code",
   "execution_count": 22,
   "metadata": {},
   "outputs": [
    {
     "name": "stdout",
     "output_type": "stream",
     "text": [
      "12 components variance: 1.0\n",
      "11 components variance: 0.9900118112564087\n",
      "10 components variance: 0.9771555662155151\n",
      "9 components variance: 0.9609878659248352\n",
      "8 components variance: 0.9436092972755432\n",
      "7 components variance: 0.9210831522941589\n",
      "6 components variance: 0.8830478191375732\n",
      "5 components variance: 0.8379784226417542\n",
      "4 components variance: 0.7790736556053162\n",
      "3 components variance: 0.7073241472244263\n",
      "2 components variance: 0.5943576693534851\n",
      "1 components variance: 0.35210534930229187\n"
     ]
    }
   ],
   "source": [
    "for component in range(len(s)):\n",
    "    variance = s.iloc[component:,:].apply(lambda x: x*x).sum()/s.apply(lambda x: x*x).sum()\n",
    "    print(f'{len(s)-component} components variance: {variance[0]}');"
   ]
  },
  {
   "cell_type": "code",
   "execution_count": 23,
   "metadata": {},
   "outputs": [],
   "source": [
    "s_6=s.iloc[6:,:]\n",
    "v_6=v.iloc[:,6:]\n",
    "v_6.columns=[0,1,2,3,4,5]"
   ]
  },
  {
   "cell_type": "code",
   "execution_count": 24,
   "metadata": {},
   "outputs": [
    {
     "data": {
      "image/png": "[encoded data removed]",
      "text/plain": [
       "<Figure size 432x288 with 1 Axes>"
      ]
     },
     "metadata": {
      "needs_background": "light"
     },
     "output_type": "display_data"
    },
    {
     "data": {
      "image/png": "[encoded data removed]",
      "text/plain": [
       "<Figure size 432x288 with 1 Axes>"
      ]
     },
     "metadata": {
      "needs_background": "light"
     },
     "output_type": "display_data"
    },
    {
     "data": {
      "image/png": "[encoded data removed]",
      "text/plain": [
       "<Figure size 432x288 with 1 Axes>"
      ]
     },
     "metadata": {
      "needs_background": "light"
     },
     "output_type": "display_data"
    },
    {
     "data": {
      "image/png": "[encoded data removed]",
      "text/plain": [
       "<Figure size 432x288 with 1 Axes>"
      ]
     },
     "metadata": {
      "needs_background": "light"
     },
     "output_type": "display_data"
    },
    {
     "data": {
      "image/png": "[encoded data removed]",
      "text/plain": [
       "<Figure size 432x288 with 1 Axes>"
      ]
     },
     "metadata": {
      "needs_background": "light"
     },
     "output_type": "display_data"
    },
    {
     "data": {
      "image/png": "[encoded data removed]",
      "text/plain": [
       "<Figure size 432x288 with 1 Axes>"
      ]
     },
     "metadata": {
      "needs_background": "light"
     },
     "output_type": "display_data"
    }
   ],
   "source": [
    "for component_num in v_6.columns+1:\n",
    "    first_comp = v_6[6-component_num]\n",
    "    comps = pd.DataFrame(list(zip(first_comp, df_scaled.columns)), columns=['weights', 'features'])\n",
    "    comps['abs_weights']=comps['weights'].apply(lambda x: np.abs(x))\n",
    "    ax=sns.barplot(data=comps.sort_values('abs_weights', ascending=False).head(10), x=\"weights\", y=\"features\", palette=\"Reds_d\")\n",
    "    ax.set_title(\"PCA Component Makeup: #\" + str(component_num))\n",
    "    plt.show()"
   ]
  },
  {
   "cell_type": "code",
   "execution_count": 25,
   "metadata": {},
   "outputs": [],
   "source": [
    "PCA_list=['acoustic_instrumental_major', 'acoustic_instrumental_minor', 'positive', 'sad_popular', 'instrumental_positive_energy', 'popular_dance_positive']"
   ]
  },
  {
   "cell_type": "markdown",
   "metadata": {},
   "source": [
    "### PCA: Model deployment"
   ]
  },
  {
   "cell_type": "code",
   "execution_count": 26,
   "metadata": {},
   "outputs": [
    {
     "name": "stderr",
     "output_type": "stream",
     "text": [
      "Defaulting to the only supported framework/algorithm version: 1. Ignoring framework/algorithm version: 1.\n"
     ]
    },
    {
     "name": "stdout",
     "output_type": "stream",
     "text": [
      "---------------!CPU times: user 281 ms, sys: 14.8 ms, total: 296 ms\n",
      "Wall time: 7min 31s\n"
     ]
    }
   ],
   "source": [
    "%%time\n",
    "pca_predictor = pca_SM.deploy(initial_instance_count=1, \n",
    "                                 instance_type='ml.t2.medium')"
   ]
  },
  {
   "cell_type": "code",
   "execution_count": 27,
   "metadata": {},
   "outputs": [],
   "source": [
    "result = pca_predictor.predict(train_data)"
   ]
  },
  {
   "cell_type": "code",
   "execution_count": 28,
   "metadata": {},
   "outputs": [],
   "source": [
    "df_pca=pd.DataFrame()\n",
    "for a in result:\n",
    "    b=a.label['projection'].float32_tensor.values\n",
    "    df_pca=df_pca.append([list(b)])\n",
    "df_pca.index=df_scaled.index\n",
    "df_pca=df_pca.iloc[:,6:]\n",
    "df_pca.columns=PCA_list"
   ]
  },
  {
   "cell_type": "code",
   "execution_count": 29,
   "metadata": {},
   "outputs": [
    {
     "data": {
      "text/html": [
       "<div>\n",
       "<style scoped>\n",
       "    .dataframe tbody tr th:only-of-type {\n",
       "        vertical-align: middle;\n",
       "    }\n",
       "\n",
       "    .dataframe tbody tr th {\n",
       "        vertical-align: top;\n",
       "    }\n",
       "\n",
       "    .dataframe thead th {\n",
       "        text-align: right;\n",
       "    }\n",
       "</style>\n",
       "<table border=\"1\" class=\"dataframe\">\n",
       "  <thead>\n",
       "    <tr style=\"text-align: right;\">\n",
       "      <th></th>\n",
       "      <th>acoustic_instrumental_major</th>\n",
       "      <th>acoustic_instrumental_minor</th>\n",
       "      <th>positive</th>\n",
       "      <th>sad_popular</th>\n",
       "      <th>instrumental_positive_energy</th>\n",
       "      <th>popular_dance_positive</th>\n",
       "    </tr>\n",
       "    <tr>\n",
       "      <th>track_id</th>\n",
       "      <th></th>\n",
       "      <th></th>\n",
       "      <th></th>\n",
       "      <th></th>\n",
       "      <th></th>\n",
       "      <th></th>\n",
       "    </tr>\n",
       "  </thead>\n",
       "  <tbody>\n",
       "    <tr>\n",
       "      <th>2b8fOow8UzyDFAE27YhOZM</th>\n",
       "      <td>0.577220</td>\n",
       "      <td>-0.353271</td>\n",
       "      <td>-0.024312</td>\n",
       "      <td>0.594962</td>\n",
       "      <td>-0.236748</td>\n",
       "      <td>0.148542</td>\n",
       "    </tr>\n",
       "    <tr>\n",
       "      <th>21jGcNKet2qwijlDFuPiPb</th>\n",
       "      <td>0.316648</td>\n",
       "      <td>0.013939</td>\n",
       "      <td>0.105043</td>\n",
       "      <td>-0.433580</td>\n",
       "      <td>-0.572397</td>\n",
       "      <td>-0.305475</td>\n",
       "    </tr>\n",
       "    <tr>\n",
       "      <th>3eekarcy7kvN4yt5ZFzltW</th>\n",
       "      <td>0.147764</td>\n",
       "      <td>-0.161002</td>\n",
       "      <td>0.640413</td>\n",
       "      <td>-0.001379</td>\n",
       "      <td>0.510005</td>\n",
       "      <td>-0.505921</td>\n",
       "    </tr>\n",
       "    <tr>\n",
       "      <th>3ZCTVFBt2Brf31RLEnCkWJ</th>\n",
       "      <td>0.553504</td>\n",
       "      <td>0.013655</td>\n",
       "      <td>0.221314</td>\n",
       "      <td>-0.040276</td>\n",
       "      <td>0.826546</td>\n",
       "      <td>0.295929</td>\n",
       "    </tr>\n",
       "    <tr>\n",
       "      <th>2XU0oxnq2qxCpomAAuJY8K</th>\n",
       "      <td>0.418125</td>\n",
       "      <td>-0.278343</td>\n",
       "      <td>-0.043281</td>\n",
       "      <td>-0.016034</td>\n",
       "      <td>0.548584</td>\n",
       "      <td>-0.369869</td>\n",
       "    </tr>\n",
       "    <tr>\n",
       "      <th>...</th>\n",
       "      <td>...</td>\n",
       "      <td>...</td>\n",
       "      <td>...</td>\n",
       "      <td>...</td>\n",
       "      <td>...</td>\n",
       "      <td>...</td>\n",
       "    </tr>\n",
       "    <tr>\n",
       "      <th>038gsZG1ObZUtFMkwIJnqH</th>\n",
       "      <td>-0.244678</td>\n",
       "      <td>-0.445472</td>\n",
       "      <td>0.082134</td>\n",
       "      <td>0.154445</td>\n",
       "      <td>-0.101117</td>\n",
       "      <td>0.763997</td>\n",
       "    </tr>\n",
       "    <tr>\n",
       "      <th>02UfNUoxphQFSLYQnSzqhM</th>\n",
       "      <td>-0.124170</td>\n",
       "      <td>0.211465</td>\n",
       "      <td>-0.306696</td>\n",
       "      <td>-0.273511</td>\n",
       "      <td>-0.069725</td>\n",
       "      <td>0.982135</td>\n",
       "    </tr>\n",
       "    <tr>\n",
       "      <th>024szQC1tsQq6UFemGBzo0</th>\n",
       "      <td>-0.138025</td>\n",
       "      <td>-0.220239</td>\n",
       "      <td>-0.564973</td>\n",
       "      <td>0.476273</td>\n",
       "      <td>-0.191378</td>\n",
       "      <td>0.414065</td>\n",
       "    </tr>\n",
       "    <tr>\n",
       "      <th>01yuKuki0x7gdPjnG9iHuJ</th>\n",
       "      <td>-0.245297</td>\n",
       "      <td>0.108246</td>\n",
       "      <td>-0.648625</td>\n",
       "      <td>-0.355159</td>\n",
       "      <td>-0.521363</td>\n",
       "      <td>-0.094222</td>\n",
       "    </tr>\n",
       "    <tr>\n",
       "      <th>01Vn8e4TylKx7xWRdgN8QD</th>\n",
       "      <td>-0.063793</td>\n",
       "      <td>0.259481</td>\n",
       "      <td>-0.199337</td>\n",
       "      <td>0.436267</td>\n",
       "      <td>0.087622</td>\n",
       "      <td>1.072198</td>\n",
       "    </tr>\n",
       "  </tbody>\n",
       "</table>\n",
       "<p>15626 rows × 6 columns</p>\n",
       "</div>"
      ],
      "text/plain": [
       "                        acoustic_instrumental_major  \\\n",
       "track_id                                              \n",
       "2b8fOow8UzyDFAE27YhOZM                     0.577220   \n",
       "21jGcNKet2qwijlDFuPiPb                     0.316648   \n",
       "3eekarcy7kvN4yt5ZFzltW                     0.147764   \n",
       "3ZCTVFBt2Brf31RLEnCkWJ                     0.553504   \n",
       "2XU0oxnq2qxCpomAAuJY8K                     0.418125   \n",
       "...                                             ...   \n",
       "038gsZG1ObZUtFMkwIJnqH                    -0.244678   \n",
       "02UfNUoxphQFSLYQnSzqhM                    -0.124170   \n",
       "024szQC1tsQq6UFemGBzo0                    -0.138025   \n",
       "01yuKuki0x7gdPjnG9iHuJ                    -0.245297   \n",
       "01Vn8e4TylKx7xWRdgN8QD                    -0.063793   \n",
       "\n",
       "                        acoustic_instrumental_minor  positive  sad_popular  \\\n",
       "track_id                                                                     \n",
       "2b8fOow8UzyDFAE27YhOZM                    -0.353271 -0.024312     0.594962   \n",
       "21jGcNKet2qwijlDFuPiPb                     0.013939  0.105043    -0.433580   \n",
       "3eekarcy7kvN4yt5ZFzltW                    -0.161002  0.640413    -0.001379   \n",
       "3ZCTVFBt2Brf31RLEnCkWJ                     0.013655  0.221314    -0.040276   \n",
       "2XU0oxnq2qxCpomAAuJY8K                    -0.278343 -0.043281    -0.016034   \n",
       "...                                             ...       ...          ...   \n",
       "038gsZG1ObZUtFMkwIJnqH                    -0.445472  0.082134     0.154445   \n",
       "02UfNUoxphQFSLYQnSzqhM                     0.211465 -0.306696    -0.273511   \n",
       "024szQC1tsQq6UFemGBzo0                    -0.220239 -0.564973     0.476273   \n",
       "01yuKuki0x7gdPjnG9iHuJ                     0.108246 -0.648625    -0.355159   \n",
       "01Vn8e4TylKx7xWRdgN8QD                     0.259481 -0.199337     0.436267   \n",
       "\n",
       "                        instrumental_positive_energy  popular_dance_positive  \n",
       "track_id                                                                      \n",
       "2b8fOow8UzyDFAE27YhOZM                     -0.236748                0.148542  \n",
       "21jGcNKet2qwijlDFuPiPb                     -0.572397               -0.305475  \n",
       "3eekarcy7kvN4yt5ZFzltW                      0.510005               -0.505921  \n",
       "3ZCTVFBt2Brf31RLEnCkWJ                      0.826546                0.295929  \n",
       "2XU0oxnq2qxCpomAAuJY8K                      0.548584               -0.369869  \n",
       "...                                              ...                     ...  \n",
       "038gsZG1ObZUtFMkwIJnqH                     -0.101117                0.763997  \n",
       "02UfNUoxphQFSLYQnSzqhM                     -0.069725                0.982135  \n",
       "024szQC1tsQq6UFemGBzo0                     -0.191378                0.414065  \n",
       "01yuKuki0x7gdPjnG9iHuJ                     -0.521363               -0.094222  \n",
       "01Vn8e4TylKx7xWRdgN8QD                      0.087622                1.072198  \n",
       "\n",
       "[15626 rows x 6 columns]"
      ]
     },
     "metadata": {},
     "output_type": "display_data"
    }
   ],
   "source": [
    "display(df_pca)"
   ]
  },
  {
   "cell_type": "markdown",
   "metadata": {},
   "source": [
    "# k-means clustering"
   ]
  },
  {
   "cell_type": "code",
   "execution_count": 30,
   "metadata": {},
   "outputs": [],
   "source": [
    "# Sagemaker requirement:\n",
    "train_data = df_pca.to_numpy().astype(np.float32)"
   ]
  },
  {
   "cell_type": "markdown",
   "metadata": {},
   "source": [
    "### k-means: Model Training"
   ]
  },
  {
   "cell_type": "code",
   "execution_count": 31,
   "metadata": {},
   "outputs": [],
   "source": [
    "from sagemaker import KMeans"
   ]
  },
  {
   "cell_type": "code",
   "execution_count": 32,
   "metadata": {},
   "outputs": [
    {
     "name": "stderr",
     "output_type": "stream",
     "text": [
      "train_instance_count has been renamed in sagemaker>=2.\n",
      "See: https://sagemaker.readthedocs.io/en/stable/v2.html for details.\n",
      "train_instance_type has been renamed in sagemaker>=2.\n",
      "See: https://sagemaker.readthedocs.io/en/stable/v2.html for details.\n"
     ]
    }
   ],
   "source": [
    "kmeans = KMeans(role=role,\n",
    "train_instance_count=1,\n",
    "train_instance_type='ml.c4.xlarge',\n",
    "output_path=output_path,\n",
    "k=24)\n",
    "# data_location could be set"
   ]
  },
  {
   "cell_type": "code",
   "execution_count": 33,
   "metadata": {},
   "outputs": [
    {
     "name": "stderr",
     "output_type": "stream",
     "text": [
      "Defaulting to the only supported framework/algorithm version: 1. Ignoring framework/algorithm version: 1.\n",
      "Defaulting to the only supported framework/algorithm version: 1. Ignoring framework/algorithm version: 1.\n"
     ]
    },
    {
     "name": "stdout",
     "output_type": "stream",
     "text": [
      "2020-12-03 21:19:35 Starting - Starting the training job...\n",
      "2020-12-03 21:19:40 Starting - Launching requested ML instances......\n",
      "2020-12-03 21:20:47 Starting - Preparing the instances for training......\n",
      "2020-12-03 21:21:51 Downloading - Downloading input data...\n",
      "2020-12-03 21:22:32 Training - Training image download completed. Training in progress.\n",
      "2020-12-03 21:22:32 Uploading - Uploading generated training model\u001b[34mDocker entrypoint called with argument(s): train\u001b[0m\n",
      "\u001b[34mRunning default environment configuration script\u001b[0m\n",
      "\u001b[34m[12/03/2020 21:22:30 INFO 140192112072512] Reading default configuration from /opt/amazon/lib/python2.7/site-packages/algorithm/resources/default-input.json: {u'_enable_profiler': u'false', u'_tuning_objective_metric': u'', u'_num_gpus': u'auto', u'local_lloyd_num_trials': u'auto', u'_log_level': u'info', u'_kvstore': u'auto', u'local_lloyd_init_method': u'kmeans++', u'force_dense': u'true', u'epochs': u'1', u'init_method': u'random', u'local_lloyd_tol': u'0.0001', u'local_lloyd_max_iter': u'300', u'_disable_wait_to_read': u'false', u'extra_center_factor': u'auto', u'eval_metrics': u'[\"msd\"]', u'_num_kv_servers': u'1', u'mini_batch_size': u'5000', u'half_life_time_size': u'0', u'_num_slices': u'1'}\u001b[0m\n",
      "\u001b[34m[12/03/2020 21:22:30 INFO 140192112072512] Reading provided configuration from /opt/ml/input/config/hyperparameters.json: {u'feature_dim': u'6', u'k': u'24', u'force_dense': u'True'}\u001b[0m\n",
      "\u001b[34m[12/03/2020 21:22:30 INFO 140192112072512] Final configuration: {u'_tuning_objective_metric': u'', u'extra_center_factor': u'auto', u'local_lloyd_init_method': u'kmeans++', u'force_dense': u'True', u'epochs': u'1', u'feature_dim': u'6', u'local_lloyd_tol': u'0.0001', u'_disable_wait_to_read': u'false', u'eval_metrics': u'[\"msd\"]', u'_num_kv_servers': u'1', u'mini_batch_size': u'5000', u'_enable_profiler': u'false', u'_num_gpus': u'auto', u'local_lloyd_num_trials': u'auto', u'_log_level': u'info', u'init_method': u'random', u'half_life_time_size': u'0', u'local_lloyd_max_iter': u'300', u'_kvstore': u'auto', u'k': u'24', u'_num_slices': u'1'}\u001b[0m\n",
      "\u001b[34m[12/03/2020 21:22:30 WARNING 140192112072512] Loggers have already been setup.\u001b[0m\n",
      "\u001b[34mProcess 1 is a worker.\u001b[0m\n",
      "\u001b[34m[12/03/2020 21:22:30 INFO 140192112072512] Using default worker.\u001b[0m\n",
      "\u001b[34m[12/03/2020 21:22:30 INFO 140192112072512] Loaded iterator creator application/x-recordio-protobuf for content type ('application/x-recordio-protobuf', '1.0')\u001b[0m\n",
      "\u001b[34m[12/03/2020 21:22:30 INFO 140192112072512] Create Store: local\u001b[0m\n",
      "\u001b[34m[12/03/2020 21:22:30 INFO 140192112072512] nvidia-smi took: 0.0252339839935 secs to identify 0 gpus\u001b[0m\n",
      "\u001b[34m[12/03/2020 21:22:30 INFO 140192112072512] Number of GPUs being used: 0\u001b[0m\n",
      "\u001b[34m[12/03/2020 21:22:30 INFO 140192112072512] Setting up with params: {u'_tuning_objective_metric': u'', u'extra_center_factor': u'auto', u'local_lloyd_init_method': u'kmeans++', u'force_dense': u'True', u'epochs': u'1', u'feature_dim': u'6', u'local_lloyd_tol': u'0.0001', u'_disable_wait_to_read': u'false', u'eval_metrics': u'[\"msd\"]', u'_num_kv_servers': u'1', u'mini_batch_size': u'5000', u'_enable_profiler': u'false', u'_num_gpus': u'auto', u'local_lloyd_num_trials': u'auto', u'_log_level': u'info', u'init_method': u'random', u'half_life_time_size': u'0', u'local_lloyd_max_iter': u'300', u'_kvstore': u'auto', u'k': u'24', u'_num_slices': u'1'}\u001b[0m\n",
      "\u001b[34m[12/03/2020 21:22:30 INFO 140192112072512] 'extra_center_factor' was set to 'auto', evaluated to 10.\u001b[0m\n",
      "\u001b[34m[12/03/2020 21:22:30 INFO 140192112072512] Number of GPUs being used: 0\u001b[0m\n",
      "\u001b[34m[12/03/2020 21:22:30 INFO 140192112072512] number of center slices 1\u001b[0m\n",
      "\u001b[34m#metrics {\"Metrics\": {\"Max Batches Seen Between Resets\": {\"count\": 1, \"max\": 1, \"sum\": 1.0, \"min\": 1}, \"Number of Batches Since Last Reset\": {\"count\": 1, \"max\": 1, \"sum\": 1.0, \"min\": 1}, \"Number of Records Since Last Reset\": {\"count\": 1, \"max\": 5000, \"sum\": 5000.0, \"min\": 5000}, \"Total Batches Seen\": {\"count\": 1, \"max\": 1, \"sum\": 1.0, \"min\": 1}, \"Total Records Seen\": {\"count\": 1, \"max\": 5000, \"sum\": 5000.0, \"min\": 5000}, \"Max Records Seen Between Resets\": {\"count\": 1, \"max\": 5000, \"sum\": 5000.0, \"min\": 5000}, \"Reset Count\": {\"count\": 1, \"max\": 0, \"sum\": 0.0, \"min\": 0}}, \"EndTime\": 1607030550.554284, \"Dimensions\": {\"Host\": \"algo-1\", \"Meta\": \"init_train_data_iter\", \"Operation\": \"training\", \"Algorithm\": \"AWS/KMeansWebscale\"}, \"StartTime\": 1607030550.554251}\n",
      "\u001b[0m\n",
      "\u001b[34m[2020-12-03 21:22:30.554] [tensorio] [info] epoch_stats={\"data_pipeline\": \"/opt/ml/input/data/train\", \"epoch\": 0, \"duration\": 78, \"num_examples\": 1, \"num_bytes\": 240000}\u001b[0m\n",
      "\u001b[34m[2020-12-03 21:22:30.678] [tensorio] [info] epoch_stats={\"data_pipeline\": \"/opt/ml/input/data/train\", \"epoch\": 1, \"duration\": 123, \"num_examples\": 4, \"num_bytes\": 750048}\u001b[0m\n",
      "\u001b[34m[12/03/2020 21:22:30 INFO 140192112072512] processed a total of 15626 examples\u001b[0m\n",
      "\u001b[34m[12/03/2020 21:22:30 INFO 140192112072512] #progress_metric: host=algo-1, completed 100 % of epochs\u001b[0m\n",
      "\u001b[34m#metrics {\"Metrics\": {\"Max Batches Seen Between Resets\": {\"count\": 1, \"max\": 4, \"sum\": 4.0, \"min\": 4}, \"Number of Batches Since Last Reset\": {\"count\": 1, \"max\": 4, \"sum\": 4.0, \"min\": 4}, \"Number of Records Since Last Reset\": {\"count\": 1, \"max\": 15626, \"sum\": 15626.0, \"min\": 15626}, \"Total Batches Seen\": {\"count\": 1, \"max\": 5, \"sum\": 5.0, \"min\": 5}, \"Total Records Seen\": {\"count\": 1, \"max\": 20626, \"sum\": 20626.0, \"min\": 20626}, \"Max Records Seen Between Resets\": {\"count\": 1, \"max\": 15626, \"sum\": 15626.0, \"min\": 15626}, \"Reset Count\": {\"count\": 1, \"max\": 1, \"sum\": 1.0, \"min\": 1}}, \"EndTime\": 1607030550.67937, \"Dimensions\": {\"Host\": \"algo-1\", \"Meta\": \"training_data_iter\", \"Operation\": \"training\", \"Algorithm\": \"AWS/KMeansWebscale\", \"epoch\": 0}, \"StartTime\": 1607030550.55453}\n",
      "\u001b[0m\n",
      "\u001b[34m[12/03/2020 21:22:30 INFO 140192112072512] #throughput_metric: host=algo-1, train throughput=125020.161309 records/second\u001b[0m\n",
      "\u001b[34m[12/03/2020 21:22:30 WARNING 140192112072512] wait_for_all_workers will not sync workers since the kv store is not running distributed\u001b[0m\n",
      "\u001b[34m[12/03/2020 21:22:30 INFO 140192112072512] shrinking 240 centers into 24\u001b[0m\n",
      "\u001b[34m[12/03/2020 21:22:30 INFO 140192112072512] local kmeans attempt #0. Current mean square distance 0.072650\u001b[0m\n",
      "\u001b[34m[12/03/2020 21:22:30 INFO 140192112072512] local kmeans attempt #1. Current mean square distance 0.078495\u001b[0m\n",
      "\u001b[34m[12/03/2020 21:22:30 INFO 140192112072512] local kmeans attempt #2. Current mean square distance 0.076006\u001b[0m\n",
      "\u001b[34m[12/03/2020 21:22:30 INFO 140192112072512] local kmeans attempt #3. Current mean square distance 0.075477\u001b[0m\n",
      "\u001b[34m[12/03/2020 21:22:31 INFO 140192112072512] local kmeans attempt #4. Current mean square distance 0.075387\u001b[0m\n",
      "\u001b[34m[12/03/2020 21:22:31 INFO 140192112072512] local kmeans attempt #5. Current mean square distance 0.075144\u001b[0m\n",
      "\u001b[34m[12/03/2020 21:22:31 INFO 140192112072512] local kmeans attempt #6. Current mean square distance 0.077040\u001b[0m\n",
      "\u001b[34m[12/03/2020 21:22:31 INFO 140192112072512] local kmeans attempt #7. Current mean square distance 0.080065\u001b[0m\n",
      "\u001b[34m[12/03/2020 21:22:31 INFO 140192112072512] local kmeans attempt #8. Current mean square distance 0.077433\u001b[0m\n",
      "\u001b[34m[12/03/2020 21:22:31 INFO 140192112072512] local kmeans attempt #9. Current mean square distance 0.075794\u001b[0m\n",
      "\u001b[34m[12/03/2020 21:22:31 INFO 140192112072512] finished shrinking process. Mean Square Distance = 0\u001b[0m\n",
      "\u001b[34m[12/03/2020 21:22:31 INFO 140192112072512] #quality_metric: host=algo-1, train msd <loss>=0.0726502016187\u001b[0m\n",
      "\u001b[34m[12/03/2020 21:22:31 INFO 140192112072512] compute all data-center distances: inner product took: 25.9716%, (0.034132 secs)\u001b[0m\n",
      "\u001b[34m[12/03/2020 21:22:31 INFO 140192112072512] predict compute msd took: 23.5738%, (0.030981 secs)\u001b[0m\n",
      "\u001b[34m[12/03/2020 21:22:31 INFO 140192112072512] gradient: cluster size  took: 17.5115%, (0.023014 secs)\u001b[0m\n",
      "\u001b[34m[12/03/2020 21:22:31 INFO 140192112072512] collect from kv store took: 6.7494%, (0.008870 secs)\u001b[0m\n",
      "\u001b[34m[12/03/2020 21:22:31 INFO 140192112072512] splitting centers key-value pair took: 6.3854%, (0.008392 secs)\u001b[0m\n",
      "\u001b[34m[12/03/2020 21:22:31 INFO 140192112072512] batch data loading with context took: 5.5899%, (0.007346 secs)\u001b[0m\n",
      "\u001b[34m[12/03/2020 21:22:31 INFO 140192112072512] compute all data-center distances: point norm took: 4.9664%, (0.006527 secs)\u001b[0m\n",
      "\u001b[34m[12/03/2020 21:22:31 INFO 140192112072512] gradient: one_hot took: 4.0920%, (0.005378 secs)\u001b[0m\n",
      "\u001b[34m[12/03/2020 21:22:31 INFO 140192112072512] gradient: cluster center took: 2.9692%, (0.003902 secs)\u001b[0m\n",
      "\u001b[34m[12/03/2020 21:22:31 INFO 140192112072512] update state and report convergance took: 1.3820%, (0.001816 secs)\u001b[0m\n",
      "\u001b[34m[12/03/2020 21:22:31 INFO 140192112072512] compute all data-center distances: center norm took: 0.5613%, (0.000738 secs)\u001b[0m\n",
      "\u001b[34m[12/03/2020 21:22:31 INFO 140192112072512] update set-up time took: 0.1727%, (0.000227 secs)\u001b[0m\n",
      "\u001b[34m[12/03/2020 21:22:31 INFO 140192112072512] predict minus dist took: 0.0747%, (0.000098 secs)\u001b[0m\n",
      "\u001b[34m[12/03/2020 21:22:31 INFO 140192112072512] TOTAL took: 0.13142156601\u001b[0m\n",
      "\u001b[34m[12/03/2020 21:22:31 INFO 140192112072512] Number of GPUs being used: 0\u001b[0m\n",
      "\u001b[34m#metrics {\"Metrics\": {\"finalize.time\": {\"count\": 1, \"max\": 717.1189785003662, \"sum\": 717.1189785003662, \"min\": 717.1189785003662}, \"initialize.time\": {\"count\": 1, \"max\": 71.29192352294922, \"sum\": 71.29192352294922, \"min\": 71.29192352294922}, \"model.serialize.time\": {\"count\": 1, \"max\": 0.1499652862548828, \"sum\": 0.1499652862548828, \"min\": 0.1499652862548828}, \"update.time\": {\"count\": 1, \"max\": 124.67384338378906, \"sum\": 124.67384338378906, \"min\": 124.67384338378906}, \"epochs\": {\"count\": 1, \"max\": 1, \"sum\": 1.0, \"min\": 1}, \"state.serialize.time\": {\"count\": 1, \"max\": 1.8260478973388672, \"sum\": 1.8260478973388672, \"min\": 1.8260478973388672}, \"_shrink.time\": {\"count\": 1, \"max\": 715.2841091156006, \"sum\": 715.2841091156006, \"min\": 715.2841091156006}}, \"EndTime\": 1607030551.399002, \"Dimensions\": {\"Host\": \"algo-1\", \"Operation\": \"training\", \"Algorithm\": \"AWS/KMeansWebscale\"}, \"StartTime\": 1607030550.474405}\n",
      "\u001b[0m\n",
      "\u001b[34m[12/03/2020 21:22:31 INFO 140192112072512] Test data is not provided.\u001b[0m\n",
      "\u001b[34m#metrics {\"Metrics\": {\"totaltime\": {\"count\": 1, \"max\": 996.2639808654785, \"sum\": 996.2639808654785, \"min\": 996.2639808654785}, \"setuptime\": {\"count\": 1, \"max\": 16.798973083496094, \"sum\": 16.798973083496094, \"min\": 16.798973083496094}}, \"EndTime\": 1607030551.399368, \"Dimensions\": {\"Host\": \"algo-1\", \"Operation\": \"training\", \"Algorithm\": \"AWS/KMeansWebscale\"}, \"StartTime\": 1607030551.399098}\n",
      "\u001b[0m\n",
      "\n",
      "2020-12-03 21:22:39 Completed - Training job completed\n",
      "Training seconds: 48\n",
      "Billable seconds: 48\n",
      "CPU times: user 737 ms, sys: 16.5 ms, total: 754 ms\n",
      "Wall time: 3min 42s\n"
     ]
    }
   ],
   "source": [
    "%%time\n",
    "kmeans.fit(kmeans.record_set(train_data))"
   ]
  },
  {
   "cell_type": "markdown",
   "metadata": {},
   "source": [
    "### k-means: Model deployment"
   ]
  },
  {
   "cell_type": "code",
   "execution_count": 34,
   "metadata": {},
   "outputs": [
    {
     "name": "stderr",
     "output_type": "stream",
     "text": [
      "Defaulting to the only supported framework/algorithm version: 1. Ignoring framework/algorithm version: 1.\n"
     ]
    },
    {
     "name": "stdout",
     "output_type": "stream",
     "text": [
      "---------------!CPU times: user 283 ms, sys: 12.4 ms, total: 296 ms\n",
      "Wall time: 7min 32s\n"
     ]
    }
   ],
   "source": [
    "%%time\n",
    "kmeans_predictor = kmeans.deploy(initial_instance_count=1,\n",
    "                                 instance_type='ml.m4.xlarge')"
   ]
  },
  {
   "cell_type": "markdown",
   "metadata": {},
   "source": [
    "### k-means: Accessing model artifact"
   ]
  },
  {
   "cell_type": "code",
   "execution_count": 35,
   "metadata": {},
   "outputs": [],
   "source": [
    "job_name = kmeans.latest_training_job.name\n",
    "model_key = f\"{folder}/output/{job_name}/output/model.tar.gz\""
   ]
  },
  {
   "cell_type": "code",
   "execution_count": 36,
   "metadata": {},
   "outputs": [
    {
     "data": {
      "text/plain": [
       "0"
      ]
     },
     "execution_count": 36,
     "metadata": {},
     "output_type": "execute_result"
    }
   ],
   "source": [
    "boto3.resource('s3').Bucket(bucket_name).download_file(model_key, 'model.tar.gz')\n",
    "os.system('tar -zxvf model.tar.gz')"
   ]
  },
  {
   "cell_type": "code",
   "execution_count": 37,
   "metadata": {},
   "outputs": [],
   "source": [
    "Kmeans_model_params = mx.ndarray.load('model_algo-1')"
   ]
  },
  {
   "cell_type": "markdown",
   "metadata": {},
   "source": [
    "### k-means: Analysis"
   ]
  },
  {
   "cell_type": "code",
   "execution_count": 38,
   "metadata": {},
   "outputs": [],
   "source": [
    "cluster_centroids=pd.DataFrame(Kmeans_model_params[0].asnumpy())\n",
    "cluster_centroids.columns=df_pca.columns"
   ]
  },
  {
   "cell_type": "code",
   "execution_count": 39,
   "metadata": {},
   "outputs": [
    {
     "data": {
      "image/png": "[encoded data removed]",
      "text/plain": [
       "<Figure size 1152x648 with 2 Axes>"
      ]
     },
     "metadata": {
      "needs_background": "light"
     },
     "output_type": "display_data"
    }
   ],
   "source": [
    "plt.figure(figsize = (16, 9))\n",
    "ax = sns.heatmap(cluster_centroids.T, cmap = \"YlOrBr\")\n",
    "ax.set_xlabel(\"Cluster\")\n",
    "plt.yticks(fontsize = 16)\n",
    "plt.xticks(fontsize = 16)\n",
    "ax.set_title(\"Attribute Value by Centroid\")\n",
    "plt.show()"
   ]
  },
  {
   "cell_type": "code",
   "execution_count": 40,
   "metadata": {},
   "outputs": [],
   "source": [
    "# for i, row in cluster_centroids.iterrows():\n",
    "#     row.sort_values(ascending=False).plot.bar(title=f'Cluster {i}')\n",
    "#     plt.show()"
   ]
  },
  {
   "cell_type": "markdown",
   "metadata": {},
   "source": [
    "### k-means: Cluster labeling"
   ]
  },
  {
   "cell_type": "code",
   "execution_count": 41,
   "metadata": {},
   "outputs": [],
   "source": [
    "result = kmeans_predictor.predict(train_data)"
   ]
  },
  {
   "cell_type": "code",
   "execution_count": 42,
   "metadata": {},
   "outputs": [],
   "source": [
    "cluster_labels = [r.label['closest_cluster'].float32_tensor.values[0] for r in result]"
   ]
  },
  {
   "cell_type": "code",
   "execution_count": 43,
   "metadata": {},
   "outputs": [
    {
     "data": {
      "image/png": "[encoded data removed]",
      "text/plain": [
       "<Figure size 1152x648 with 1 Axes>"
      ]
     },
     "metadata": {
      "needs_background": "light"
     },
     "output_type": "display_data"
    }
   ],
   "source": [
    "ax=plt.subplots(figsize=(16,9))\n",
    "ax=sns.distplot(cluster_labels, kde=False, bins=np.arange(0,24),hist_kws=dict(ec=\"k\"))\n",
    "title=\"Histogram of Cluster Counts\"\n",
    "ax.set_title(title, fontsize=12)\n",
    "plt.show()"
   ]
  },
  {
   "cell_type": "code",
   "execution_count": 44,
   "metadata": {},
   "outputs": [],
   "source": [
    "data['labels']=list(map(int, cluster_labels))"
   ]
  },
  {
   "cell_type": "markdown",
   "metadata": {},
   "source": [
    "### k-means: Cluster prediction"
   ]
  },
  {
   "cell_type": "code",
   "execution_count": 45,
   "metadata": {},
   "outputs": [
    {
     "data": {
      "text/html": [
       "<div>\n",
       "<style scoped>\n",
       "    .dataframe tbody tr th:only-of-type {\n",
       "        vertical-align: middle;\n",
       "    }\n",
       "\n",
       "    .dataframe tbody tr th {\n",
       "        vertical-align: top;\n",
       "    }\n",
       "\n",
       "    .dataframe thead th {\n",
       "        text-align: right;\n",
       "    }\n",
       "</style>\n",
       "<table border=\"1\" class=\"dataframe\">\n",
       "  <thead>\n",
       "    <tr style=\"text-align: right;\">\n",
       "      <th></th>\n",
       "      <th>artist_name</th>\n",
       "      <th>track_name</th>\n",
       "      <th>popularity</th>\n",
       "      <th>danceability</th>\n",
       "      <th>energy</th>\n",
       "      <th>key</th>\n",
       "      <th>loudness</th>\n",
       "      <th>mode</th>\n",
       "      <th>speechiness</th>\n",
       "      <th>acousticness</th>\n",
       "      <th>instrumentalness</th>\n",
       "      <th>liveness</th>\n",
       "      <th>valence</th>\n",
       "      <th>tempo</th>\n",
       "      <th>duration_ms</th>\n",
       "      <th>time_signature</th>\n",
       "    </tr>\n",
       "    <tr>\n",
       "      <th>track_id</th>\n",
       "      <th></th>\n",
       "      <th></th>\n",
       "      <th></th>\n",
       "      <th></th>\n",
       "      <th></th>\n",
       "      <th></th>\n",
       "      <th></th>\n",
       "      <th></th>\n",
       "      <th></th>\n",
       "      <th></th>\n",
       "      <th></th>\n",
       "      <th></th>\n",
       "      <th></th>\n",
       "      <th></th>\n",
       "      <th></th>\n",
       "      <th></th>\n",
       "    </tr>\n",
       "  </thead>\n",
       "  <tbody>\n",
       "    <tr>\n",
       "      <th>6WRIgOjGTPfoRy8XaErXf6</th>\n",
       "      <td>Prince</td>\n",
       "      <td>1999 (Edit)</td>\n",
       "      <td>1</td>\n",
       "      <td>0.882</td>\n",
       "      <td>0.562</td>\n",
       "      <td>5</td>\n",
       "      <td>-10.971</td>\n",
       "      <td>1</td>\n",
       "      <td>0.0515</td>\n",
       "      <td>0.265</td>\n",
       "      <td>0.000017</td>\n",
       "      <td>0.745</td>\n",
       "      <td>0.715</td>\n",
       "      <td>119.165</td>\n",
       "      <td>218867</td>\n",
       "      <td>4</td>\n",
       "    </tr>\n",
       "  </tbody>\n",
       "</table>\n",
       "</div>"
      ],
      "text/plain": [
       "                       artist_name   track_name  popularity  danceability  \\\n",
       "track_id                                                                    \n",
       "6WRIgOjGTPfoRy8XaErXf6      Prince  1999 (Edit)           1         0.882   \n",
       "\n",
       "                        energy  key  loudness  mode  speechiness  \\\n",
       "track_id                                                           \n",
       "6WRIgOjGTPfoRy8XaErXf6   0.562    5   -10.971     1       0.0515   \n",
       "\n",
       "                        acousticness  instrumentalness  liveness  valence  \\\n",
       "track_id                                                                    \n",
       "6WRIgOjGTPfoRy8XaErXf6         0.265          0.000017     0.745    0.715   \n",
       "\n",
       "                          tempo  duration_ms  time_signature  \n",
       "track_id                                                      \n",
       "6WRIgOjGTPfoRy8XaErXf6  119.165       218867               4  "
      ]
     },
     "execution_count": 45,
     "metadata": {},
     "output_type": "execute_result"
    }
   ],
   "source": [
    "test_song"
   ]
  },
  {
   "cell_type": "code",
   "execution_count": 46,
   "metadata": {},
   "outputs": [],
   "source": [
    "test_song.drop(['artist_name', 'track_name'], axis=1, inplace=True)\n",
    "# new_song = pd.DataFrame({'popularity':[90], 'danceability':[0.695], 'energy':[0.601], 'key':[5], 'loudness':[-5.616], 'mode':[0], 'speechiness':[0.1480], 'acousticness':[0.1920], 'instrumentalness':[0.002440], 'liveness':[0.1263], 'valence':[0.4570], 'tempo':[101.993], 'duration_ms':[189323], 'time_signature':[5]})"
   ]
  },
  {
   "cell_type": "code",
   "execution_count": 47,
   "metadata": {},
   "outputs": [],
   "source": [
    "new_song_scaled = pd.DataFrame(scaler.transform(test_song))\n",
    "new_song_array = new_song_scaled.to_numpy().astype(np.float32)\n",
    "\n",
    "result = pca_predictor.predict(new_song_array)\n",
    "song_pca = pd.DataFrame()\n",
    "for a in result:\n",
    "    b=a.label['projection'].float32_tensor.values\n",
    "    song_pca=song_pca.append([list(b)])\n",
    "song_pca = song_pca.iloc[:,6:]\n",
    "song_pca = song_pca.to_numpy().astype(np.float32)"
   ]
  },
  {
   "cell_type": "code",
   "execution_count": 48,
   "metadata": {},
   "outputs": [],
   "source": [
    "new_song_result = kmeans_predictor.predict(song_pca)\n",
    "new_song_cluster = int(new_song_result[0].label['closest_cluster'].float32_tensor.values[0])"
   ]
  },
  {
   "cell_type": "code",
   "execution_count": 49,
   "metadata": {},
   "outputs": [
    {
     "name": "stdout",
     "output_type": "stream",
     "text": [
      "This song belongs to cluster 7\n"
     ]
    }
   ],
   "source": [
    "print(f'This song belongs to cluster {new_song_cluster}')"
   ]
  },
  {
   "cell_type": "code",
   "execution_count": 50,
   "metadata": {},
   "outputs": [
    {
     "name": "stdout",
     "output_type": "stream",
     "text": [
      "... and these are the most popular songs of this cluster:\n"
     ]
    },
    {
     "data": {
      "text/html": [
       "<div>\n",
       "<style scoped>\n",
       "    .dataframe tbody tr th:only-of-type {\n",
       "        vertical-align: middle;\n",
       "    }\n",
       "\n",
       "    .dataframe tbody tr th {\n",
       "        vertical-align: top;\n",
       "    }\n",
       "\n",
       "    .dataframe thead th {\n",
       "        text-align: right;\n",
       "    }\n",
       "</style>\n",
       "<table border=\"1\" class=\"dataframe\">\n",
       "  <thead>\n",
       "    <tr style=\"text-align: right;\">\n",
       "      <th></th>\n",
       "      <th>artist_name</th>\n",
       "      <th>track_name</th>\n",
       "      <th>popularity</th>\n",
       "      <th>danceability</th>\n",
       "      <th>energy</th>\n",
       "      <th>key</th>\n",
       "      <th>loudness</th>\n",
       "      <th>mode</th>\n",
       "      <th>speechiness</th>\n",
       "      <th>acousticness</th>\n",
       "      <th>instrumentalness</th>\n",
       "      <th>liveness</th>\n",
       "      <th>valence</th>\n",
       "      <th>tempo</th>\n",
       "      <th>duration_ms</th>\n",
       "      <th>time_signature</th>\n",
       "      <th>labels</th>\n",
       "    </tr>\n",
       "    <tr>\n",
       "      <th>track_id</th>\n",
       "      <th></th>\n",
       "      <th></th>\n",
       "      <th></th>\n",
       "      <th></th>\n",
       "      <th></th>\n",
       "      <th></th>\n",
       "      <th></th>\n",
       "      <th></th>\n",
       "      <th></th>\n",
       "      <th></th>\n",
       "      <th></th>\n",
       "      <th></th>\n",
       "      <th></th>\n",
       "      <th></th>\n",
       "      <th></th>\n",
       "      <th></th>\n",
       "      <th></th>\n",
       "    </tr>\n",
       "  </thead>\n",
       "  <tbody>\n",
       "    <tr>\n",
       "      <th>1WnqWQcWcuQbVzgE7ecfCY</th>\n",
       "      <td>Kanye West</td>\n",
       "      <td>Every Hour</td>\n",
       "      <td>80</td>\n",
       "      <td>0.588</td>\n",
       "      <td>0.793</td>\n",
       "      <td>7</td>\n",
       "      <td>-6.230</td>\n",
       "      <td>1</td>\n",
       "      <td>0.0794</td>\n",
       "      <td>0.4660</td>\n",
       "      <td>0.000647</td>\n",
       "      <td>0.9130</td>\n",
       "      <td>0.694</td>\n",
       "      <td>76.997</td>\n",
       "      <td>112239</td>\n",
       "      <td>5</td>\n",
       "      <td>7</td>\n",
       "    </tr>\n",
       "    <tr>\n",
       "      <th>6PrHpASrdyqydEKc8JFmEX</th>\n",
       "      <td>Zé Felipe</td>\n",
       "      <td>Tiro Certo - Ao Vivo</td>\n",
       "      <td>79</td>\n",
       "      <td>0.710</td>\n",
       "      <td>0.905</td>\n",
       "      <td>5</td>\n",
       "      <td>-5.146</td>\n",
       "      <td>1</td>\n",
       "      <td>0.0716</td>\n",
       "      <td>0.5570</td>\n",
       "      <td>0.000001</td>\n",
       "      <td>0.7090</td>\n",
       "      <td>0.688</td>\n",
       "      <td>130.046</td>\n",
       "      <td>179065</td>\n",
       "      <td>4</td>\n",
       "      <td>7</td>\n",
       "    </tr>\n",
       "    <tr>\n",
       "      <th>4gDvg62vG96w0qJaF6wzcd</th>\n",
       "      <td>Diego &amp; Victor Hugo</td>\n",
       "      <td>A Culpa é do Meu Grau (feat. Zé Neto &amp; Cristia...</td>\n",
       "      <td>79</td>\n",
       "      <td>0.542</td>\n",
       "      <td>0.876</td>\n",
       "      <td>6</td>\n",
       "      <td>-3.378</td>\n",
       "      <td>1</td>\n",
       "      <td>0.0972</td>\n",
       "      <td>0.7240</td>\n",
       "      <td>0.000000</td>\n",
       "      <td>0.9250</td>\n",
       "      <td>0.634</td>\n",
       "      <td>118.777</td>\n",
       "      <td>182735</td>\n",
       "      <td>4</td>\n",
       "      <td>7</td>\n",
       "    </tr>\n",
       "    <tr>\n",
       "      <th>4Cm51VOGs75ik79YMpJykG</th>\n",
       "      <td>Gustavo Mioto</td>\n",
       "      <td>Fake News - Ao Vivo</td>\n",
       "      <td>78</td>\n",
       "      <td>0.804</td>\n",
       "      <td>0.637</td>\n",
       "      <td>11</td>\n",
       "      <td>-3.187</td>\n",
       "      <td>1</td>\n",
       "      <td>0.0542</td>\n",
       "      <td>0.4700</td>\n",
       "      <td>0.000000</td>\n",
       "      <td>0.9690</td>\n",
       "      <td>0.732</td>\n",
       "      <td>113.979</td>\n",
       "      <td>175205</td>\n",
       "      <td>4</td>\n",
       "      <td>7</td>\n",
       "    </tr>\n",
       "    <tr>\n",
       "      <th>3tU3UAasaDA9OixXGC3O33</th>\n",
       "      <td>Mano Walter</td>\n",
       "      <td>Fingindo Maturidade - Ao Vivo</td>\n",
       "      <td>76</td>\n",
       "      <td>0.577</td>\n",
       "      <td>0.919</td>\n",
       "      <td>5</td>\n",
       "      <td>-3.194</td>\n",
       "      <td>1</td>\n",
       "      <td>0.0982</td>\n",
       "      <td>0.2860</td>\n",
       "      <td>0.000000</td>\n",
       "      <td>0.9430</td>\n",
       "      <td>0.736</td>\n",
       "      <td>166.059</td>\n",
       "      <td>189003</td>\n",
       "      <td>4</td>\n",
       "      <td>7</td>\n",
       "    </tr>\n",
       "    <tr>\n",
       "      <th>...</th>\n",
       "      <td>...</td>\n",
       "      <td>...</td>\n",
       "      <td>...</td>\n",
       "      <td>...</td>\n",
       "      <td>...</td>\n",
       "      <td>...</td>\n",
       "      <td>...</td>\n",
       "      <td>...</td>\n",
       "      <td>...</td>\n",
       "      <td>...</td>\n",
       "      <td>...</td>\n",
       "      <td>...</td>\n",
       "      <td>...</td>\n",
       "      <td>...</td>\n",
       "      <td>...</td>\n",
       "      <td>...</td>\n",
       "      <td>...</td>\n",
       "    </tr>\n",
       "    <tr>\n",
       "      <th>0CNwq5kKPVCh5x9PRQm9QR</th>\n",
       "      <td>Melim</td>\n",
       "      <td>Ouvi Dizer</td>\n",
       "      <td>0</td>\n",
       "      <td>0.654</td>\n",
       "      <td>0.613</td>\n",
       "      <td>7</td>\n",
       "      <td>-7.667</td>\n",
       "      <td>1</td>\n",
       "      <td>0.0541</td>\n",
       "      <td>0.0778</td>\n",
       "      <td>0.000000</td>\n",
       "      <td>0.0804</td>\n",
       "      <td>0.706</td>\n",
       "      <td>81.059</td>\n",
       "      <td>213243</td>\n",
       "      <td>4</td>\n",
       "      <td>7</td>\n",
       "    </tr>\n",
       "    <tr>\n",
       "      <th>09kL55tBHtZLDQ7VFoqWlE</th>\n",
       "      <td>Alejandro Fernandez</td>\n",
       "      <td>Sé Que Te Duele</td>\n",
       "      <td>0</td>\n",
       "      <td>0.690</td>\n",
       "      <td>0.875</td>\n",
       "      <td>9</td>\n",
       "      <td>-4.282</td>\n",
       "      <td>1</td>\n",
       "      <td>0.0746</td>\n",
       "      <td>0.2190</td>\n",
       "      <td>0.000000</td>\n",
       "      <td>0.0949</td>\n",
       "      <td>0.793</td>\n",
       "      <td>94.963</td>\n",
       "      <td>226827</td>\n",
       "      <td>4</td>\n",
       "      <td>7</td>\n",
       "    </tr>\n",
       "    <tr>\n",
       "      <th>09ZS459XMi5u3QsFKURA5n</th>\n",
       "      <td>Billy Idol</td>\n",
       "      <td>White Wedding - Pt. 1</td>\n",
       "      <td>0</td>\n",
       "      <td>0.673</td>\n",
       "      <td>0.814</td>\n",
       "      <td>9</td>\n",
       "      <td>-5.411</td>\n",
       "      <td>1</td>\n",
       "      <td>0.0367</td>\n",
       "      <td>0.0133</td>\n",
       "      <td>0.002930</td>\n",
       "      <td>0.3430</td>\n",
       "      <td>0.728</td>\n",
       "      <td>147.193</td>\n",
       "      <td>252200</td>\n",
       "      <td>4</td>\n",
       "      <td>7</td>\n",
       "    </tr>\n",
       "    <tr>\n",
       "      <th>07kIoHVOauileXgimb4PG2</th>\n",
       "      <td>R.E.M.</td>\n",
       "      <td>Shiny Happy People</td>\n",
       "      <td>0</td>\n",
       "      <td>0.452</td>\n",
       "      <td>0.909</td>\n",
       "      <td>9</td>\n",
       "      <td>-3.977</td>\n",
       "      <td>1</td>\n",
       "      <td>0.0366</td>\n",
       "      <td>0.0313</td>\n",
       "      <td>0.060300</td>\n",
       "      <td>0.2300</td>\n",
       "      <td>0.805</td>\n",
       "      <td>124.623</td>\n",
       "      <td>225787</td>\n",
       "      <td>4</td>\n",
       "      <td>7</td>\n",
       "    </tr>\n",
       "    <tr>\n",
       "      <th>05lpaMz8nQH7iJn7SbrnZL</th>\n",
       "      <td>Juanes</td>\n",
       "      <td>Es Por Tí</td>\n",
       "      <td>0</td>\n",
       "      <td>0.693</td>\n",
       "      <td>0.761</td>\n",
       "      <td>4</td>\n",
       "      <td>-6.066</td>\n",
       "      <td>1</td>\n",
       "      <td>0.0263</td>\n",
       "      <td>0.1780</td>\n",
       "      <td>0.000034</td>\n",
       "      <td>0.1230</td>\n",
       "      <td>0.865</td>\n",
       "      <td>129.952</td>\n",
       "      <td>251120</td>\n",
       "      <td>4</td>\n",
       "      <td>7</td>\n",
       "    </tr>\n",
       "  </tbody>\n",
       "</table>\n",
       "<p>535 rows × 17 columns</p>\n",
       "</div>"
      ],
      "text/plain": [
       "                                artist_name  \\\n",
       "track_id                                      \n",
       "1WnqWQcWcuQbVzgE7ecfCY           Kanye West   \n",
       "6PrHpASrdyqydEKc8JFmEX            Zé Felipe   \n",
       "4gDvg62vG96w0qJaF6wzcd  Diego & Victor Hugo   \n",
       "4Cm51VOGs75ik79YMpJykG        Gustavo Mioto   \n",
       "3tU3UAasaDA9OixXGC3O33          Mano Walter   \n",
       "...                                     ...   \n",
       "0CNwq5kKPVCh5x9PRQm9QR                Melim   \n",
       "09kL55tBHtZLDQ7VFoqWlE  Alejandro Fernandez   \n",
       "09ZS459XMi5u3QsFKURA5n           Billy Idol   \n",
       "07kIoHVOauileXgimb4PG2               R.E.M.   \n",
       "05lpaMz8nQH7iJn7SbrnZL               Juanes   \n",
       "\n",
       "                                                               track_name  \\\n",
       "track_id                                                                    \n",
       "1WnqWQcWcuQbVzgE7ecfCY                                         Every Hour   \n",
       "6PrHpASrdyqydEKc8JFmEX                               Tiro Certo - Ao Vivo   \n",
       "4gDvg62vG96w0qJaF6wzcd  A Culpa é do Meu Grau (feat. Zé Neto & Cristia...   \n",
       "4Cm51VOGs75ik79YMpJykG                                Fake News - Ao Vivo   \n",
       "3tU3UAasaDA9OixXGC3O33                      Fingindo Maturidade - Ao Vivo   \n",
       "...                                                                   ...   \n",
       "0CNwq5kKPVCh5x9PRQm9QR                                         Ouvi Dizer   \n",
       "09kL55tBHtZLDQ7VFoqWlE                                    Sé Que Te Duele   \n",
       "09ZS459XMi5u3QsFKURA5n                              White Wedding - Pt. 1   \n",
       "07kIoHVOauileXgimb4PG2                                 Shiny Happy People   \n",
       "05lpaMz8nQH7iJn7SbrnZL                                          Es Por Tí   \n",
       "\n",
       "                        popularity  danceability  energy  key  loudness  mode  \\\n",
       "track_id                                                                        \n",
       "1WnqWQcWcuQbVzgE7ecfCY          80         0.588   0.793    7    -6.230     1   \n",
       "6PrHpASrdyqydEKc8JFmEX          79         0.710   0.905    5    -5.146     1   \n",
       "4gDvg62vG96w0qJaF6wzcd          79         0.542   0.876    6    -3.378     1   \n",
       "4Cm51VOGs75ik79YMpJykG          78         0.804   0.637   11    -3.187     1   \n",
       "3tU3UAasaDA9OixXGC3O33          76         0.577   0.919    5    -3.194     1   \n",
       "...                            ...           ...     ...  ...       ...   ...   \n",
       "0CNwq5kKPVCh5x9PRQm9QR           0         0.654   0.613    7    -7.667     1   \n",
       "09kL55tBHtZLDQ7VFoqWlE           0         0.690   0.875    9    -4.282     1   \n",
       "09ZS459XMi5u3QsFKURA5n           0         0.673   0.814    9    -5.411     1   \n",
       "07kIoHVOauileXgimb4PG2           0         0.452   0.909    9    -3.977     1   \n",
       "05lpaMz8nQH7iJn7SbrnZL           0         0.693   0.761    4    -6.066     1   \n",
       "\n",
       "                        speechiness  acousticness  instrumentalness  liveness  \\\n",
       "track_id                                                                        \n",
       "1WnqWQcWcuQbVzgE7ecfCY       0.0794        0.4660          0.000647    0.9130   \n",
       "6PrHpASrdyqydEKc8JFmEX       0.0716        0.5570          0.000001    0.7090   \n",
       "4gDvg62vG96w0qJaF6wzcd       0.0972        0.7240          0.000000    0.9250   \n",
       "4Cm51VOGs75ik79YMpJykG       0.0542        0.4700          0.000000    0.9690   \n",
       "3tU3UAasaDA9OixXGC3O33       0.0982        0.2860          0.000000    0.9430   \n",
       "...                             ...           ...               ...       ...   \n",
       "0CNwq5kKPVCh5x9PRQm9QR       0.0541        0.0778          0.000000    0.0804   \n",
       "09kL55tBHtZLDQ7VFoqWlE       0.0746        0.2190          0.000000    0.0949   \n",
       "09ZS459XMi5u3QsFKURA5n       0.0367        0.0133          0.002930    0.3430   \n",
       "07kIoHVOauileXgimb4PG2       0.0366        0.0313          0.060300    0.2300   \n",
       "05lpaMz8nQH7iJn7SbrnZL       0.0263        0.1780          0.000034    0.1230   \n",
       "\n",
       "                        valence    tempo  duration_ms  time_signature  labels  \n",
       "track_id                                                                       \n",
       "1WnqWQcWcuQbVzgE7ecfCY    0.694   76.997       112239               5       7  \n",
       "6PrHpASrdyqydEKc8JFmEX    0.688  130.046       179065               4       7  \n",
       "4gDvg62vG96w0qJaF6wzcd    0.634  118.777       182735               4       7  \n",
       "4Cm51VOGs75ik79YMpJykG    0.732  113.979       175205               4       7  \n",
       "3tU3UAasaDA9OixXGC3O33    0.736  166.059       189003               4       7  \n",
       "...                         ...      ...          ...             ...     ...  \n",
       "0CNwq5kKPVCh5x9PRQm9QR    0.706   81.059       213243               4       7  \n",
       "09kL55tBHtZLDQ7VFoqWlE    0.793   94.963       226827               4       7  \n",
       "09ZS459XMi5u3QsFKURA5n    0.728  147.193       252200               4       7  \n",
       "07kIoHVOauileXgimb4PG2    0.805  124.623       225787               4       7  \n",
       "05lpaMz8nQH7iJn7SbrnZL    0.865  129.952       251120               4       7  \n",
       "\n",
       "[535 rows x 17 columns]"
      ]
     },
     "metadata": {},
     "output_type": "display_data"
    }
   ],
   "source": [
    "print(f\"... and these are the most popular songs of this cluster:\")\n",
    "display(data[data['labels']==new_song_cluster])"
   ]
  }
 ],
 "metadata": {
  "kernelspec": {
   "display_name": "conda_python3",
   "language": "python",
   "name": "conda_python3"
  },
  "language_info": {
   "codemirror_mode": {
    "name": "ipython",
    "version": 3
   },
   "file_extension": ".py",
   "mimetype": "text/x-python",
   "name": "python",
   "nbconvert_exporter": "python",
   "pygments_lexer": "ipython3",
   "version": "3.6.10"
  }
 },
 "nbformat": 4,
 "nbformat_minor": 4
}
